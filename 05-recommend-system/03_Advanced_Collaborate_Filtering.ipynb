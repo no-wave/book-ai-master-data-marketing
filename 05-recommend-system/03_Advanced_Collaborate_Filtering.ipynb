{
 "cells": [
  {
   "cell_type": "markdown",
   "id": "c8cc8734-93ff-4a72-a19e-14044041d201",
   "metadata": {},
   "source": [
    "# Collabrate Filtering"
   ]
  },
  {
   "cell_type": "markdown",
   "id": "343a7192-1bd3-438c-9226-b4b39f48d79b",
   "metadata": {},
   "source": [
    "## Import Library"
   ]
  },
  {
   "cell_type": "code",
   "execution_count": 1,
   "id": "1f789af9-8d60-4652-9792-f910e31c7436",
   "metadata": {
    "tags": []
   },
   "outputs": [],
   "source": [
    "import numpy as np\n",
    "import pandas as pd\n",
    "\n",
    "import matplotlib.pyplot as plt\n",
    "%matplotlib inline\n",
    "\n",
    "import seaborn as sns"
   ]
  },
  {
   "cell_type": "code",
   "execution_count": 2,
   "id": "3da7471e-542f-429b-9eda-69b7e3b3a237",
   "metadata": {
    "tags": []
   },
   "outputs": [
    {
     "data": {
      "text/html": [
       "<div>\n",
       "<style scoped>\n",
       "    .dataframe tbody tr th:only-of-type {\n",
       "        vertical-align: middle;\n",
       "    }\n",
       "\n",
       "    .dataframe tbody tr th {\n",
       "        vertical-align: top;\n",
       "    }\n",
       "\n",
       "    .dataframe thead th {\n",
       "        text-align: right;\n",
       "    }\n",
       "</style>\n",
       "<table border=\"1\" class=\"dataframe\">\n",
       "  <thead>\n",
       "    <tr style=\"text-align: right;\">\n",
       "      <th></th>\n",
       "      <th>InvoiceNo</th>\n",
       "      <th>StockCode</th>\n",
       "      <th>Description</th>\n",
       "      <th>Quantity</th>\n",
       "      <th>InvoiceDate</th>\n",
       "      <th>UnitPrice</th>\n",
       "      <th>CustomerID</th>\n",
       "      <th>Country</th>\n",
       "    </tr>\n",
       "  </thead>\n",
       "  <tbody>\n",
       "    <tr>\n",
       "      <th>0</th>\n",
       "      <td>536365</td>\n",
       "      <td>85123A</td>\n",
       "      <td>WHITE HANGING HEART T-LIGHT HOLDER</td>\n",
       "      <td>6</td>\n",
       "      <td>2010-12-01 08:26:00</td>\n",
       "      <td>2.55</td>\n",
       "      <td>17850.0</td>\n",
       "      <td>United Kingdom</td>\n",
       "    </tr>\n",
       "    <tr>\n",
       "      <th>1</th>\n",
       "      <td>536365</td>\n",
       "      <td>71053</td>\n",
       "      <td>WHITE METAL LANTERN</td>\n",
       "      <td>6</td>\n",
       "      <td>2010-12-01 08:26:00</td>\n",
       "      <td>3.39</td>\n",
       "      <td>17850.0</td>\n",
       "      <td>United Kingdom</td>\n",
       "    </tr>\n",
       "    <tr>\n",
       "      <th>2</th>\n",
       "      <td>536365</td>\n",
       "      <td>84406B</td>\n",
       "      <td>CREAM CUPID HEARTS COAT HANGER</td>\n",
       "      <td>8</td>\n",
       "      <td>2010-12-01 08:26:00</td>\n",
       "      <td>2.75</td>\n",
       "      <td>17850.0</td>\n",
       "      <td>United Kingdom</td>\n",
       "    </tr>\n",
       "    <tr>\n",
       "      <th>3</th>\n",
       "      <td>536365</td>\n",
       "      <td>84029G</td>\n",
       "      <td>KNITTED UNION FLAG HOT WATER BOTTLE</td>\n",
       "      <td>6</td>\n",
       "      <td>2010-12-01 08:26:00</td>\n",
       "      <td>3.39</td>\n",
       "      <td>17850.0</td>\n",
       "      <td>United Kingdom</td>\n",
       "    </tr>\n",
       "    <tr>\n",
       "      <th>4</th>\n",
       "      <td>536365</td>\n",
       "      <td>84029E</td>\n",
       "      <td>RED WOOLLY HOTTIE WHITE HEART.</td>\n",
       "      <td>6</td>\n",
       "      <td>2010-12-01 08:26:00</td>\n",
       "      <td>3.39</td>\n",
       "      <td>17850.0</td>\n",
       "      <td>United Kingdom</td>\n",
       "    </tr>\n",
       "  </tbody>\n",
       "</table>\n",
       "</div>"
      ],
      "text/plain": [
       "  InvoiceNo StockCode                          Description  Quantity  \\\n",
       "0    536365    85123A   WHITE HANGING HEART T-LIGHT HOLDER         6   \n",
       "1    536365     71053                  WHITE METAL LANTERN         6   \n",
       "2    536365    84406B       CREAM CUPID HEARTS COAT HANGER         8   \n",
       "3    536365    84029G  KNITTED UNION FLAG HOT WATER BOTTLE         6   \n",
       "4    536365    84029E       RED WOOLLY HOTTIE WHITE HEART.         6   \n",
       "\n",
       "          InvoiceDate  UnitPrice  CustomerID         Country  \n",
       "0 2010-12-01 08:26:00       2.55     17850.0  United Kingdom  \n",
       "1 2010-12-01 08:26:00       3.39     17850.0  United Kingdom  \n",
       "2 2010-12-01 08:26:00       2.75     17850.0  United Kingdom  \n",
       "3 2010-12-01 08:26:00       3.39     17850.0  United Kingdom  \n",
       "4 2010-12-01 08:26:00       3.39     17850.0  United Kingdom  "
      ]
     },
     "execution_count": 2,
     "metadata": {},
     "output_type": "execute_result"
    }
   ],
   "source": [
    "df = pd.read_excel('../dataset/Online Retail.xlsx', sheet_name='Online Retail')\n",
    "df.head()"
   ]
  },
  {
   "cell_type": "code",
   "execution_count": 3,
   "id": "d29c7d68-71be-477b-9f11-b6edd2c715de",
   "metadata": {
    "tags": []
   },
   "outputs": [
    {
     "data": {
      "text/plain": [
       "InvoiceNo           0\n",
       "StockCode           0\n",
       "Description      1454\n",
       "Quantity            0\n",
       "InvoiceDate         0\n",
       "UnitPrice           0\n",
       "CustomerID     135080\n",
       "Country             0\n",
       "dtype: int64"
      ]
     },
     "execution_count": 3,
     "metadata": {},
     "output_type": "execute_result"
    }
   ],
   "source": [
    "df.isna().sum()"
   ]
  },
  {
   "cell_type": "code",
   "execution_count": 4,
   "id": "e309969d-61cb-4559-a5f5-38d269bd579d",
   "metadata": {
    "tags": []
   },
   "outputs": [],
   "source": [
    "df = df.dropna(subset=['CustomerID'])"
   ]
  },
  {
   "cell_type": "code",
   "execution_count": 5,
   "id": "2a3ea605-dd2c-4552-a680-6bd3c038b3b8",
   "metadata": {
    "tags": []
   },
   "outputs": [
    {
     "data": {
      "text/plain": [
       "(406829, 8)"
      ]
     },
     "execution_count": 5,
     "metadata": {},
     "output_type": "execute_result"
    }
   ],
   "source": [
    "df.shape"
   ]
  },
  {
   "cell_type": "code",
   "execution_count": 6,
   "id": "19a76f09-7da7-4c0d-9e44-8355c26eb468",
   "metadata": {
    "tags": []
   },
   "outputs": [
    {
     "data": {
      "text/plain": [
       "3684"
      ]
     },
     "execution_count": 6,
     "metadata": {},
     "output_type": "execute_result"
    }
   ],
   "source": [
    "df[\"StockCode\"].nunique()"
   ]
  },
  {
   "cell_type": "code",
   "execution_count": 7,
   "id": "a3eb230a-0f36-4119-844f-4dbdb5dd3c9a",
   "metadata": {
    "tags": []
   },
   "outputs": [
    {
     "data": {
      "text/plain": [
       "4372"
      ]
     },
     "execution_count": 7,
     "metadata": {},
     "output_type": "execute_result"
    }
   ],
   "source": [
    "df[\"CustomerID\"].nunique()"
   ]
  },
  {
   "cell_type": "code",
   "execution_count": 8,
   "id": "92824f1b-63cf-4052-8280-d971be762929",
   "metadata": {
    "tags": []
   },
   "outputs": [],
   "source": [
    "df[\"InvoiceDate\"] = pd.to_datetime(df[\"InvoiceDate\"])"
   ]
  },
  {
   "cell_type": "code",
   "execution_count": 9,
   "id": "627bae1b-ba41-4fdd-8dbe-a11803c35f62",
   "metadata": {
    "tags": []
   },
   "outputs": [
    {
     "name": "stderr",
     "output_type": "stream",
     "text": [
      "/tmp/ipykernel_4058423/888986878.py:1: FutureWarning: Treating datetime data as categorical rather than numeric in `.describe` is deprecated and will be removed in a future version of pandas. Specify `datetime_is_numeric=True` to silence this warning and adopt the future behavior now.\n",
      "  df[\"InvoiceDate\"].describe()\n"
     ]
    },
    {
     "data": {
      "text/plain": [
       "count                  406829\n",
       "unique                  20460\n",
       "top       2011-11-14 15:27:00\n",
       "freq                      543\n",
       "first     2010-12-01 08:26:00\n",
       "last      2011-12-09 12:50:00\n",
       "Name: InvoiceDate, dtype: object"
      ]
     },
     "execution_count": 9,
     "metadata": {},
     "output_type": "execute_result"
    }
   ],
   "source": [
    "df[\"InvoiceDate\"].describe()"
   ]
  },
  {
   "cell_type": "code",
   "execution_count": 14,
   "id": "f4189fe8-f196-4870-b2d5-3cebb6560f1a",
   "metadata": {
    "tags": []
   },
   "outputs": [],
   "source": [
    "customer_item_matrix = df.pivot_table(\n",
    "    index='CustomerID', \n",
    "    columns='StockCode', \n",
    "    values='Quantity',\n",
    "    aggfunc='sum'\n",
    ")"
   ]
  },
  {
   "cell_type": "code",
   "execution_count": 15,
   "id": "65ec50df-dab5-4fb0-9f7c-f87136682f5e",
   "metadata": {
    "tags": []
   },
   "outputs": [
    {
     "data": {
      "text/plain": [
       "(4372, 3684)"
      ]
     },
     "execution_count": 15,
     "metadata": {},
     "output_type": "execute_result"
    }
   ],
   "source": [
    "customer_item_matrix.shape"
   ]
  },
  {
   "cell_type": "code",
   "execution_count": 19,
   "id": "2be2e22e-7b76-4d07-b7a3-1f7caa064e9d",
   "metadata": {
    "tags": []
   },
   "outputs": [
    {
     "data": {
      "text/html": [
       "<div>\n",
       "<style scoped>\n",
       "    .dataframe tbody tr th:only-of-type {\n",
       "        vertical-align: middle;\n",
       "    }\n",
       "\n",
       "    .dataframe tbody tr th {\n",
       "        vertical-align: top;\n",
       "    }\n",
       "\n",
       "    .dataframe thead th {\n",
       "        text-align: right;\n",
       "    }\n",
       "</style>\n",
       "<table border=\"1\" class=\"dataframe\">\n",
       "  <thead>\n",
       "    <tr style=\"text-align: right;\">\n",
       "      <th>StockCode</th>\n",
       "      <th>10002</th>\n",
       "      <th>10080</th>\n",
       "      <th>10120</th>\n",
       "      <th>10125</th>\n",
       "      <th>10133</th>\n",
       "      <th>10135</th>\n",
       "      <th>11001</th>\n",
       "      <th>15030</th>\n",
       "      <th>15034</th>\n",
       "      <th>15036</th>\n",
       "      <th>...</th>\n",
       "      <th>90214Y</th>\n",
       "      <th>90214Z</th>\n",
       "      <th>BANK CHARGES</th>\n",
       "      <th>C2</th>\n",
       "      <th>CRUK</th>\n",
       "      <th>D</th>\n",
       "      <th>DOT</th>\n",
       "      <th>M</th>\n",
       "      <th>PADS</th>\n",
       "      <th>POST</th>\n",
       "    </tr>\n",
       "    <tr>\n",
       "      <th>CustomerID</th>\n",
       "      <th></th>\n",
       "      <th></th>\n",
       "      <th></th>\n",
       "      <th></th>\n",
       "      <th></th>\n",
       "      <th></th>\n",
       "      <th></th>\n",
       "      <th></th>\n",
       "      <th></th>\n",
       "      <th></th>\n",
       "      <th></th>\n",
       "      <th></th>\n",
       "      <th></th>\n",
       "      <th></th>\n",
       "      <th></th>\n",
       "      <th></th>\n",
       "      <th></th>\n",
       "      <th></th>\n",
       "      <th></th>\n",
       "      <th></th>\n",
       "      <th></th>\n",
       "    </tr>\n",
       "  </thead>\n",
       "  <tbody>\n",
       "    <tr>\n",
       "      <th>12346.0</th>\n",
       "      <td>0</td>\n",
       "      <td>0</td>\n",
       "      <td>0</td>\n",
       "      <td>0</td>\n",
       "      <td>0</td>\n",
       "      <td>0</td>\n",
       "      <td>0</td>\n",
       "      <td>0</td>\n",
       "      <td>0</td>\n",
       "      <td>0</td>\n",
       "      <td>...</td>\n",
       "      <td>0</td>\n",
       "      <td>0</td>\n",
       "      <td>0</td>\n",
       "      <td>0</td>\n",
       "      <td>0</td>\n",
       "      <td>0</td>\n",
       "      <td>0</td>\n",
       "      <td>0</td>\n",
       "      <td>0</td>\n",
       "      <td>0</td>\n",
       "    </tr>\n",
       "    <tr>\n",
       "      <th>12347.0</th>\n",
       "      <td>0</td>\n",
       "      <td>0</td>\n",
       "      <td>0</td>\n",
       "      <td>0</td>\n",
       "      <td>0</td>\n",
       "      <td>0</td>\n",
       "      <td>0</td>\n",
       "      <td>0</td>\n",
       "      <td>0</td>\n",
       "      <td>0</td>\n",
       "      <td>...</td>\n",
       "      <td>0</td>\n",
       "      <td>0</td>\n",
       "      <td>0</td>\n",
       "      <td>0</td>\n",
       "      <td>0</td>\n",
       "      <td>0</td>\n",
       "      <td>0</td>\n",
       "      <td>0</td>\n",
       "      <td>0</td>\n",
       "      <td>0</td>\n",
       "    </tr>\n",
       "    <tr>\n",
       "      <th>12348.0</th>\n",
       "      <td>0</td>\n",
       "      <td>0</td>\n",
       "      <td>0</td>\n",
       "      <td>0</td>\n",
       "      <td>0</td>\n",
       "      <td>0</td>\n",
       "      <td>0</td>\n",
       "      <td>0</td>\n",
       "      <td>0</td>\n",
       "      <td>0</td>\n",
       "      <td>...</td>\n",
       "      <td>0</td>\n",
       "      <td>0</td>\n",
       "      <td>0</td>\n",
       "      <td>0</td>\n",
       "      <td>0</td>\n",
       "      <td>0</td>\n",
       "      <td>0</td>\n",
       "      <td>0</td>\n",
       "      <td>0</td>\n",
       "      <td>1</td>\n",
       "    </tr>\n",
       "    <tr>\n",
       "      <th>12349.0</th>\n",
       "      <td>0</td>\n",
       "      <td>0</td>\n",
       "      <td>0</td>\n",
       "      <td>0</td>\n",
       "      <td>0</td>\n",
       "      <td>0</td>\n",
       "      <td>0</td>\n",
       "      <td>0</td>\n",
       "      <td>0</td>\n",
       "      <td>0</td>\n",
       "      <td>...</td>\n",
       "      <td>0</td>\n",
       "      <td>0</td>\n",
       "      <td>0</td>\n",
       "      <td>0</td>\n",
       "      <td>0</td>\n",
       "      <td>0</td>\n",
       "      <td>0</td>\n",
       "      <td>0</td>\n",
       "      <td>0</td>\n",
       "      <td>1</td>\n",
       "    </tr>\n",
       "    <tr>\n",
       "      <th>12350.0</th>\n",
       "      <td>0</td>\n",
       "      <td>0</td>\n",
       "      <td>0</td>\n",
       "      <td>0</td>\n",
       "      <td>0</td>\n",
       "      <td>0</td>\n",
       "      <td>0</td>\n",
       "      <td>0</td>\n",
       "      <td>0</td>\n",
       "      <td>0</td>\n",
       "      <td>...</td>\n",
       "      <td>0</td>\n",
       "      <td>0</td>\n",
       "      <td>0</td>\n",
       "      <td>0</td>\n",
       "      <td>0</td>\n",
       "      <td>0</td>\n",
       "      <td>0</td>\n",
       "      <td>0</td>\n",
       "      <td>0</td>\n",
       "      <td>1</td>\n",
       "    </tr>\n",
       "  </tbody>\n",
       "</table>\n",
       "<p>5 rows × 3684 columns</p>\n",
       "</div>"
      ],
      "text/plain": [
       "StockCode   10002  10080  10120  10125  10133  10135  11001  15030  15034  \\\n",
       "CustomerID                                                                  \n",
       "12346.0         0      0      0      0      0      0      0      0      0   \n",
       "12347.0         0      0      0      0      0      0      0      0      0   \n",
       "12348.0         0      0      0      0      0      0      0      0      0   \n",
       "12349.0         0      0      0      0      0      0      0      0      0   \n",
       "12350.0         0      0      0      0      0      0      0      0      0   \n",
       "\n",
       "StockCode   15036  ...  90214Y  90214Z  BANK CHARGES  C2  CRUK  D  DOT  M  \\\n",
       "CustomerID         ...                                                      \n",
       "12346.0         0  ...       0       0             0   0     0  0    0  0   \n",
       "12347.0         0  ...       0       0             0   0     0  0    0  0   \n",
       "12348.0         0  ...       0       0             0   0     0  0    0  0   \n",
       "12349.0         0  ...       0       0             0   0     0  0    0  0   \n",
       "12350.0         0  ...       0       0             0   0     0  0    0  0   \n",
       "\n",
       "StockCode   PADS  POST  \n",
       "CustomerID              \n",
       "12346.0        0     0  \n",
       "12347.0        0     0  \n",
       "12348.0        0     1  \n",
       "12349.0        0     1  \n",
       "12350.0        0     1  \n",
       "\n",
       "[5 rows x 3684 columns]"
      ]
     },
     "execution_count": 19,
     "metadata": {},
     "output_type": "execute_result"
    }
   ],
   "source": [
    "customer_item_matrix = customer_item_matrix.applymap(lambda x: 1 if x > 0 else 0)\n",
    "customer_item_matrix.head()"
   ]
  },
  {
   "cell_type": "markdown",
   "id": "86fd6458-11c2-4159-b625-f00c425a0c07",
   "metadata": {
    "tags": []
   },
   "source": [
    "## 1. Market Basket Analysis"
   ]
  },
  {
   "cell_type": "code",
   "execution_count": 21,
   "id": "9d645577-03ac-4a72-a25e-b4bbe4e43ea5",
   "metadata": {
    "scrolled": true,
    "tags": []
   },
   "outputs": [],
   "source": [
    "#%pip install mlxtend"
   ]
  },
  {
   "cell_type": "code",
   "execution_count": 22,
   "id": "2ae93b51-c0a9-4585-bd46-4a2367c30c1c",
   "metadata": {
    "tags": []
   },
   "outputs": [
    {
     "data": {
      "text/plain": [
       "Index([   15036,    16237,    17003,    20668,    20674,    20675,    20676,\n",
       "          20677,    20679,    20682,\n",
       "       ...\n",
       "       '85049C', '85049E', '85049G', '85099B', '85099C', '85099F', '85123A',\n",
       "       '85184C',      'M',   'POST'],\n",
       "      dtype='object', name='StockCode', length=904)"
      ]
     },
     "execution_count": 22,
     "metadata": {},
     "output_type": "execute_result"
    }
   ],
   "source": [
    "from mlxtend.frequent_patterns import apriori, association_rules\n",
    "\n",
    "at_least_100_sold_items = customer_item_matrix.columns[(customer_item_matrix.sum() > 100)]\n",
    "at_least_100_sold_items"
   ]
  },
  {
   "cell_type": "code",
   "execution_count": 23,
   "id": "6e1a4ddd-605e-41b5-a994-43d73b47251e",
   "metadata": {
    "tags": []
   },
   "outputs": [
    {
     "data": {
      "text/plain": [
       "Float64Index([12347.0, 12349.0, 12352.0, 12354.0, 12356.0, 12357.0, 12359.0,\n",
       "              12360.0, 12362.0, 12364.0,\n",
       "              ...\n",
       "              18248.0, 18252.0, 18257.0, 18259.0, 18260.0, 18263.0, 18265.0,\n",
       "              18272.0, 18283.0, 18287.0],\n",
       "             dtype='float64', name='CustomerID', length=2519)"
      ]
     },
     "execution_count": 23,
     "metadata": {},
     "output_type": "execute_result"
    }
   ],
   "source": [
    "at_least_20_purchase_customers = customer_item_matrix.loc[\n",
    "    (customer_item_matrix[at_least_100_sold_items].sum(axis=1) >= 20)].index\n",
    "at_least_20_purchase_customers"
   ]
  },
  {
   "cell_type": "code",
   "execution_count": 24,
   "id": "d9ce9e23-9a1e-4f7a-910e-ebee3ed6d701",
   "metadata": {
    "tags": []
   },
   "outputs": [
    {
     "data": {
      "text/plain": [
       "(2519, 904)"
      ]
     },
     "execution_count": 24,
     "metadata": {},
     "output_type": "execute_result"
    }
   ],
   "source": [
    "mb_matrix = customer_item_matrix.loc[at_least_20_purchase_customers][at_least_100_sold_items]\n",
    "mb_matrix.shape"
   ]
  },
  {
   "cell_type": "markdown",
   "id": "578f4734-79e3-49a0-a906-e434c315e3ed",
   "metadata": {},
   "source": [
    "### 1.1. Apriori - Frequent Item Sets"
   ]
  },
  {
   "cell_type": "code",
   "execution_count": 26,
   "id": "1ab1d09f-b9f1-4a03-8c9a-28d0100ef72b",
   "metadata": {
    "tags": []
   },
   "outputs": [
    {
     "name": "stderr",
     "output_type": "stream",
     "text": [
      "/home/kubwa/anaconda3/envs/lecture/lib/python3.11/site-packages/mlxtend/frequent_patterns/fpcommon.py:161: DeprecationWarning: DataFrames with non-bool types result in worse computationalperformance and their support might be discontinued in the future.Please use a DataFrame with bool type\n",
      "  warnings.warn(\n"
     ]
    }
   ],
   "source": [
    "frequent_items = apriori(\n",
    "    customer_item_matrix, \n",
    "    min_support=0.03,\n",
    "    use_colnames=True\n",
    ")"
   ]
  },
  {
   "cell_type": "code",
   "execution_count": 27,
   "id": "01f61bc1-45f1-4be0-8c49-2984786086b0",
   "metadata": {
    "tags": []
   },
   "outputs": [
    {
     "data": {
      "text/html": [
       "<div>\n",
       "<style scoped>\n",
       "    .dataframe tbody tr th:only-of-type {\n",
       "        vertical-align: middle;\n",
       "    }\n",
       "\n",
       "    .dataframe tbody tr th {\n",
       "        vertical-align: top;\n",
       "    }\n",
       "\n",
       "    .dataframe thead th {\n",
       "        text-align: right;\n",
       "    }\n",
       "</style>\n",
       "<table border=\"1\" class=\"dataframe\">\n",
       "  <thead>\n",
       "    <tr style=\"text-align: right;\">\n",
       "      <th></th>\n",
       "      <th>support</th>\n",
       "      <th>itemsets</th>\n",
       "      <th>n_items</th>\n",
       "    </tr>\n",
       "  </thead>\n",
       "  <tbody>\n",
       "    <tr>\n",
       "      <th>0</th>\n",
       "      <td>0.044145</td>\n",
       "      <td>(15036)</td>\n",
       "      <td>1</td>\n",
       "    </tr>\n",
       "    <tr>\n",
       "      <th>1</th>\n",
       "      <td>0.031107</td>\n",
       "      <td>(17003)</td>\n",
       "      <td>1</td>\n",
       "    </tr>\n",
       "    <tr>\n",
       "      <th>2</th>\n",
       "      <td>0.034081</td>\n",
       "      <td>(20675)</td>\n",
       "      <td>1</td>\n",
       "    </tr>\n",
       "    <tr>\n",
       "      <th>3</th>\n",
       "      <td>0.042315</td>\n",
       "      <td>(20676)</td>\n",
       "      <td>1</td>\n",
       "    </tr>\n",
       "    <tr>\n",
       "      <th>4</th>\n",
       "      <td>0.030421</td>\n",
       "      <td>(20677)</td>\n",
       "      <td>1</td>\n",
       "    </tr>\n",
       "    <tr>\n",
       "      <th>...</th>\n",
       "      <td>...</td>\n",
       "      <td>...</td>\n",
       "      <td>...</td>\n",
       "    </tr>\n",
       "    <tr>\n",
       "      <th>1951</th>\n",
       "      <td>0.034309</td>\n",
       "      <td>(22383, 22384, 20725, 20727, 20728)</td>\n",
       "      <td>5</td>\n",
       "    </tr>\n",
       "    <tr>\n",
       "      <th>1952</th>\n",
       "      <td>0.032022</td>\n",
       "      <td>(22382, 22383, 22384, 20725, 20727)</td>\n",
       "      <td>5</td>\n",
       "    </tr>\n",
       "    <tr>\n",
       "      <th>1953</th>\n",
       "      <td>0.033166</td>\n",
       "      <td>(22382, 22383, 22384, 20725, 20728)</td>\n",
       "      <td>5</td>\n",
       "    </tr>\n",
       "    <tr>\n",
       "      <th>1954</th>\n",
       "      <td>0.030192</td>\n",
       "      <td>(23207, 22382, 22383, 20725, 20728)</td>\n",
       "      <td>5</td>\n",
       "    </tr>\n",
       "    <tr>\n",
       "      <th>1955</th>\n",
       "      <td>0.031565</td>\n",
       "      <td>(22382, 22383, 22384, 20727, 20728)</td>\n",
       "      <td>5</td>\n",
       "    </tr>\n",
       "  </tbody>\n",
       "</table>\n",
       "<p>1956 rows × 3 columns</p>\n",
       "</div>"
      ],
      "text/plain": [
       "       support                             itemsets  n_items\n",
       "0     0.044145                              (15036)        1\n",
       "1     0.031107                              (17003)        1\n",
       "2     0.034081                              (20675)        1\n",
       "3     0.042315                              (20676)        1\n",
       "4     0.030421                              (20677)        1\n",
       "...        ...                                  ...      ...\n",
       "1951  0.034309  (22383, 22384, 20725, 20727, 20728)        5\n",
       "1952  0.032022  (22382, 22383, 22384, 20725, 20727)        5\n",
       "1953  0.033166  (22382, 22383, 22384, 20725, 20728)        5\n",
       "1954  0.030192  (23207, 22382, 22383, 20725, 20728)        5\n",
       "1955  0.031565  (22382, 22383, 22384, 20727, 20728)        5\n",
       "\n",
       "[1956 rows x 3 columns]"
      ]
     },
     "execution_count": 27,
     "metadata": {},
     "output_type": "execute_result"
    }
   ],
   "source": [
    "frequent_items[\"n_items\"] = frequent_items[\"itemsets\"].apply(lambda x: len(x))\n",
    "frequent_items"
   ]
  },
  {
   "cell_type": "code",
   "execution_count": 28,
   "id": "3e71dd93-bc54-4020-b64c-3a447aeea4e8",
   "metadata": {
    "tags": []
   },
   "outputs": [
    {
     "data": {
      "text/plain": [
       "count    1956.000000\n",
       "mean        0.042293\n",
       "std         0.016682\n",
       "min         0.030192\n",
       "25%         0.032479\n",
       "50%         0.036597\n",
       "75%         0.045059\n",
       "max         0.198994\n",
       "Name: support, dtype: float64"
      ]
     },
     "execution_count": 28,
     "metadata": {},
     "output_type": "execute_result"
    }
   ],
   "source": [
    "frequent_items[\"support\"].describe()"
   ]
  },
  {
   "cell_type": "code",
   "execution_count": 29,
   "id": "4fd4d7e1-72a8-4451-bd9b-470d16f3698e",
   "metadata": {
    "tags": []
   },
   "outputs": [
    {
     "data": {
      "image/png": "[encoded data removed]",
      "text/plain": [
       "<Figure size 640x480 with 1 Axes>"
      ]
     },
     "metadata": {},
     "output_type": "display_data"
    }
   ],
   "source": [
    "ax = frequent_items[\"support\"].hist(bins=20)\n",
    "ax.set_xlabel(\"support\")\n",
    "ax.set_ylabel(\"frequency\")\n",
    "plt.show()"
   ]
  },
  {
   "cell_type": "markdown",
   "id": "efda09fb-7011-4582-8489-875c883e84a9",
   "metadata": {},
   "source": [
    "### 1.2. Association Rules"
   ]
  },
  {
   "cell_type": "code",
   "execution_count": 32,
   "id": "1529f830-e304-43b2-a6f2-29d287642535",
   "metadata": {
    "tags": []
   },
   "outputs": [
    {
     "data": {
      "text/html": [
       "<div>\n",
       "<style scoped>\n",
       "    .dataframe tbody tr th:only-of-type {\n",
       "        vertical-align: middle;\n",
       "    }\n",
       "\n",
       "    .dataframe tbody tr th {\n",
       "        vertical-align: top;\n",
       "    }\n",
       "\n",
       "    .dataframe thead th {\n",
       "        text-align: right;\n",
       "    }\n",
       "</style>\n",
       "<table border=\"1\" class=\"dataframe\">\n",
       "  <thead>\n",
       "    <tr style=\"text-align: right;\">\n",
       "      <th></th>\n",
       "      <th>antecedents</th>\n",
       "      <th>consequents</th>\n",
       "      <th>antecedent support</th>\n",
       "      <th>consequent support</th>\n",
       "      <th>support</th>\n",
       "      <th>confidence</th>\n",
       "      <th>lift</th>\n",
       "      <th>representativity</th>\n",
       "      <th>leverage</th>\n",
       "      <th>conviction</th>\n",
       "      <th>zhangs_metric</th>\n",
       "      <th>jaccard</th>\n",
       "      <th>certainty</th>\n",
       "      <th>kulczynski</th>\n",
       "    </tr>\n",
       "  </thead>\n",
       "  <tbody>\n",
       "    <tr>\n",
       "      <th>0</th>\n",
       "      <td>(20712)</td>\n",
       "      <td>(85099B)</td>\n",
       "      <td>0.056267</td>\n",
       "      <td>0.144556</td>\n",
       "      <td>0.038655</td>\n",
       "      <td>0.686992</td>\n",
       "      <td>4.752418</td>\n",
       "      <td>1.0</td>\n",
       "      <td>0.030521</td>\n",
       "      <td>2.732976</td>\n",
       "      <td>0.836657</td>\n",
       "      <td>0.238364</td>\n",
       "      <td>0.634099</td>\n",
       "      <td>0.477198</td>\n",
       "    </tr>\n",
       "    <tr>\n",
       "      <th>1</th>\n",
       "      <td>(20713)</td>\n",
       "      <td>(85099B)</td>\n",
       "      <td>0.047118</td>\n",
       "      <td>0.144556</td>\n",
       "      <td>0.034309</td>\n",
       "      <td>0.728155</td>\n",
       "      <td>5.037176</td>\n",
       "      <td>1.0</td>\n",
       "      <td>0.027498</td>\n",
       "      <td>3.146811</td>\n",
       "      <td>0.841107</td>\n",
       "      <td>0.218023</td>\n",
       "      <td>0.682218</td>\n",
       "      <td>0.482749</td>\n",
       "    </tr>\n",
       "    <tr>\n",
       "      <th>2</th>\n",
       "      <td>(20719)</td>\n",
       "      <td>(20724)</td>\n",
       "      <td>0.054209</td>\n",
       "      <td>0.076624</td>\n",
       "      <td>0.037283</td>\n",
       "      <td>0.687764</td>\n",
       "      <td>8.975830</td>\n",
       "      <td>1.0</td>\n",
       "      <td>0.033129</td>\n",
       "      <td>2.957299</td>\n",
       "      <td>0.939520</td>\n",
       "      <td>0.398533</td>\n",
       "      <td>0.661854</td>\n",
       "      <td>0.587165</td>\n",
       "    </tr>\n",
       "    <tr>\n",
       "      <th>3</th>\n",
       "      <td>(20723)</td>\n",
       "      <td>(20724)</td>\n",
       "      <td>0.052150</td>\n",
       "      <td>0.076624</td>\n",
       "      <td>0.037740</td>\n",
       "      <td>0.723684</td>\n",
       "      <td>9.444619</td>\n",
       "      <td>1.0</td>\n",
       "      <td>0.033744</td>\n",
       "      <td>3.341742</td>\n",
       "      <td>0.943313</td>\n",
       "      <td>0.414573</td>\n",
       "      <td>0.700755</td>\n",
       "      <td>0.608111</td>\n",
       "    </tr>\n",
       "    <tr>\n",
       "      <th>4</th>\n",
       "      <td>(20723)</td>\n",
       "      <td>(22355)</td>\n",
       "      <td>0.052150</td>\n",
       "      <td>0.056496</td>\n",
       "      <td>0.031336</td>\n",
       "      <td>0.600877</td>\n",
       "      <td>10.635770</td>\n",
       "      <td>1.0</td>\n",
       "      <td>0.028390</td>\n",
       "      <td>2.363944</td>\n",
       "      <td>0.955824</td>\n",
       "      <td>0.405325</td>\n",
       "      <td>0.576978</td>\n",
       "      <td>0.577767</td>\n",
       "    </tr>\n",
       "  </tbody>\n",
       "</table>\n",
       "</div>"
      ],
      "text/plain": [
       "  antecedents consequents  antecedent support  consequent support   support  \\\n",
       "0     (20712)    (85099B)            0.056267            0.144556  0.038655   \n",
       "1     (20713)    (85099B)            0.047118            0.144556  0.034309   \n",
       "2     (20719)     (20724)            0.054209            0.076624  0.037283   \n",
       "3     (20723)     (20724)            0.052150            0.076624  0.037740   \n",
       "4     (20723)     (22355)            0.052150            0.056496  0.031336   \n",
       "\n",
       "   confidence       lift  representativity  leverage  conviction  \\\n",
       "0    0.686992   4.752418               1.0  0.030521    2.732976   \n",
       "1    0.728155   5.037176               1.0  0.027498    3.146811   \n",
       "2    0.687764   8.975830               1.0  0.033129    2.957299   \n",
       "3    0.723684   9.444619               1.0  0.033744    3.341742   \n",
       "4    0.600877  10.635770               1.0  0.028390    2.363944   \n",
       "\n",
       "   zhangs_metric   jaccard  certainty  kulczynski  \n",
       "0       0.836657  0.238364   0.634099    0.477198  \n",
       "1       0.841107  0.218023   0.682218    0.482749  \n",
       "2       0.939520  0.398533   0.661854    0.587165  \n",
       "3       0.943313  0.414573   0.700755    0.608111  \n",
       "4       0.955824  0.405325   0.576978    0.577767  "
      ]
     },
     "execution_count": 32,
     "metadata": {},
     "output_type": "execute_result"
    }
   ],
   "source": [
    "rules = association_rules(\n",
    "    frequent_items, \n",
    "    metric=\"confidence\",\n",
    "    min_threshold=0.6, \n",
    "    support_only=False\n",
    ")\n",
    "rules.head()"
   ]
  },
  {
   "cell_type": "code",
   "execution_count": 33,
   "id": "d23d50a3-912a-4348-9030-41ac68c76139",
   "metadata": {
    "tags": []
   },
   "outputs": [],
   "source": [
    "most_lift = rules.sort_values(by=\"lift\", ascending=False).head(20).pivot_table(\n",
    "    index='antecedents', \n",
    "    columns='consequents', \n",
    "    values='lift',\n",
    "    aggfunc='sum'\n",
    ")\n",
    "\n",
    "most_lift.index = [\n",
    "    \" + \".join([df.loc[df[\"StockCode\"] == item][\"Description\"].unique()[0] for item in list(x)]) for x in most_lift.index\n",
    "]\n",
    "\n",
    "most_lift.columns = [\n",
    "    \" + \".join([df.loc[df[\"StockCode\"] == item][\"Description\"].unique()[0] for item in list(x)]) for x in most_lift.columns\n",
    "]"
   ]
  },
  {
   "cell_type": "code",
   "execution_count": 34,
   "id": "737a4707-f020-4226-854a-e6b41d7c1e3f",
   "metadata": {
    "tags": []
   },
   "outputs": [
    {
     "data": {
      "text/html": [
       "<div>\n",
       "<style scoped>\n",
       "    .dataframe tbody tr th:only-of-type {\n",
       "        vertical-align: middle;\n",
       "    }\n",
       "\n",
       "    .dataframe tbody tr th {\n",
       "        vertical-align: top;\n",
       "    }\n",
       "\n",
       "    .dataframe thead th {\n",
       "        text-align: right;\n",
       "    }\n",
       "</style>\n",
       "<table border=\"1\" class=\"dataframe\">\n",
       "  <thead>\n",
       "    <tr style=\"text-align: right;\">\n",
       "      <th></th>\n",
       "      <th>REGENCY TEA PLATE GREEN  + ROSES REGENCY TEACUP AND SAUCER</th>\n",
       "      <th>GREEN REGENCY TEACUP AND SAUCER + REGENCY TEA PLATE ROSES</th>\n",
       "      <th>REGENCY TEA PLATE ROSES  + REGENCY TEA PLATE GREEN</th>\n",
       "      <th>REGENCY TEA PLATE PINK</th>\n",
       "      <th>SET/6 RED SPOTTY PAPER CUPS</th>\n",
       "      <th>SET/6 RED SPOTTY PAPER PLATES</th>\n",
       "      <th>REGENCY TEA PLATE GREEN</th>\n",
       "      <th>GREEN REGENCY TEACUP AND SAUCER + REGENCY TEA PLATE GREEN</th>\n",
       "      <th>GREEN REGENCY TEACUP AND SAUCER + REGENCY TEA PLATE PINK</th>\n",
       "      <th>REGENCY TEA PLATE ROSES  + REGENCY TEA PLATE PINK</th>\n",
       "      <th>REGENCY TEA PLATE ROSES  + ROSES REGENCY TEACUP AND SAUCER</th>\n",
       "      <th>GREEN REGENCY TEACUP AND SAUCER + REGENCY TEA PLATE ROSES  + ROSES REGENCY TEACUP AND SAUCER</th>\n",
       "    </tr>\n",
       "  </thead>\n",
       "  <tbody>\n",
       "    <tr>\n",
       "      <th>GREEN REGENCY TEACUP AND SAUCER + REGENCY TEA PLATE ROSES</th>\n",
       "      <td>26.010726</td>\n",
       "      <td>NaN</td>\n",
       "      <td>NaN</td>\n",
       "      <td>NaN</td>\n",
       "      <td>NaN</td>\n",
       "      <td>NaN</td>\n",
       "      <td>20.839579</td>\n",
       "      <td>NaN</td>\n",
       "      <td>NaN</td>\n",
       "      <td>NaN</td>\n",
       "      <td>NaN</td>\n",
       "      <td>NaN</td>\n",
       "    </tr>\n",
       "    <tr>\n",
       "      <th>REGENCY TEA PLATE GREEN  + ROSES REGENCY TEACUP AND SAUCER</th>\n",
       "      <td>NaN</td>\n",
       "      <td>26.010726</td>\n",
       "      <td>NaN</td>\n",
       "      <td>NaN</td>\n",
       "      <td>NaN</td>\n",
       "      <td>NaN</td>\n",
       "      <td>NaN</td>\n",
       "      <td>NaN</td>\n",
       "      <td>NaN</td>\n",
       "      <td>NaN</td>\n",
       "      <td>NaN</td>\n",
       "      <td>NaN</td>\n",
       "    </tr>\n",
       "    <tr>\n",
       "      <th>REGENCY TEA PLATE PINK</th>\n",
       "      <td>NaN</td>\n",
       "      <td>NaN</td>\n",
       "      <td>22.386747</td>\n",
       "      <td>NaN</td>\n",
       "      <td>NaN</td>\n",
       "      <td>NaN</td>\n",
       "      <td>20.879103</td>\n",
       "      <td>21.993293</td>\n",
       "      <td>NaN</td>\n",
       "      <td>NaN</td>\n",
       "      <td>NaN</td>\n",
       "      <td>NaN</td>\n",
       "    </tr>\n",
       "    <tr>\n",
       "      <th>REGENCY TEA PLATE ROSES  + REGENCY TEA PLATE GREEN</th>\n",
       "      <td>NaN</td>\n",
       "      <td>NaN</td>\n",
       "      <td>NaN</td>\n",
       "      <td>22.386747</td>\n",
       "      <td>NaN</td>\n",
       "      <td>NaN</td>\n",
       "      <td>NaN</td>\n",
       "      <td>NaN</td>\n",
       "      <td>NaN</td>\n",
       "      <td>NaN</td>\n",
       "      <td>NaN</td>\n",
       "      <td>NaN</td>\n",
       "    </tr>\n",
       "    <tr>\n",
       "      <th>SET/6 RED SPOTTY PAPER PLATES</th>\n",
       "      <td>NaN</td>\n",
       "      <td>NaN</td>\n",
       "      <td>NaN</td>\n",
       "      <td>NaN</td>\n",
       "      <td>22.230756</td>\n",
       "      <td>NaN</td>\n",
       "      <td>NaN</td>\n",
       "      <td>NaN</td>\n",
       "      <td>NaN</td>\n",
       "      <td>NaN</td>\n",
       "      <td>NaN</td>\n",
       "      <td>NaN</td>\n",
       "    </tr>\n",
       "    <tr>\n",
       "      <th>SET/6 RED SPOTTY PAPER CUPS</th>\n",
       "      <td>NaN</td>\n",
       "      <td>NaN</td>\n",
       "      <td>NaN</td>\n",
       "      <td>NaN</td>\n",
       "      <td>NaN</td>\n",
       "      <td>22.230756</td>\n",
       "      <td>NaN</td>\n",
       "      <td>NaN</td>\n",
       "      <td>NaN</td>\n",
       "      <td>NaN</td>\n",
       "      <td>NaN</td>\n",
       "      <td>NaN</td>\n",
       "    </tr>\n",
       "    <tr>\n",
       "      <th>GREEN REGENCY TEACUP AND SAUCER + REGENCY TEA PLATE GREEN</th>\n",
       "      <td>NaN</td>\n",
       "      <td>NaN</td>\n",
       "      <td>NaN</td>\n",
       "      <td>21.993293</td>\n",
       "      <td>NaN</td>\n",
       "      <td>NaN</td>\n",
       "      <td>NaN</td>\n",
       "      <td>NaN</td>\n",
       "      <td>NaN</td>\n",
       "      <td>NaN</td>\n",
       "      <td>20.462228</td>\n",
       "      <td>NaN</td>\n",
       "    </tr>\n",
       "    <tr>\n",
       "      <th>GREEN REGENCY TEACUP AND SAUCER + REGENCY TEA PLATE PINK</th>\n",
       "      <td>NaN</td>\n",
       "      <td>NaN</td>\n",
       "      <td>NaN</td>\n",
       "      <td>NaN</td>\n",
       "      <td>NaN</td>\n",
       "      <td>NaN</td>\n",
       "      <td>21.761086</td>\n",
       "      <td>NaN</td>\n",
       "      <td>NaN</td>\n",
       "      <td>NaN</td>\n",
       "      <td>NaN</td>\n",
       "      <td>NaN</td>\n",
       "    </tr>\n",
       "    <tr>\n",
       "      <th>REGENCY TEA PLATE GREEN</th>\n",
       "      <td>NaN</td>\n",
       "      <td>20.839579</td>\n",
       "      <td>NaN</td>\n",
       "      <td>20.879103</td>\n",
       "      <td>NaN</td>\n",
       "      <td>NaN</td>\n",
       "      <td>NaN</td>\n",
       "      <td>NaN</td>\n",
       "      <td>21.761086</td>\n",
       "      <td>21.473167</td>\n",
       "      <td>NaN</td>\n",
       "      <td>20.945479</td>\n",
       "    </tr>\n",
       "    <tr>\n",
       "      <th>REGENCY TEA PLATE ROSES  + REGENCY TEA PLATE PINK</th>\n",
       "      <td>NaN</td>\n",
       "      <td>NaN</td>\n",
       "      <td>NaN</td>\n",
       "      <td>NaN</td>\n",
       "      <td>NaN</td>\n",
       "      <td>NaN</td>\n",
       "      <td>21.473167</td>\n",
       "      <td>NaN</td>\n",
       "      <td>NaN</td>\n",
       "      <td>NaN</td>\n",
       "      <td>NaN</td>\n",
       "      <td>NaN</td>\n",
       "    </tr>\n",
       "    <tr>\n",
       "      <th>REGENCY TEA PLATE ROSES  + ROSES REGENCY TEACUP AND SAUCER</th>\n",
       "      <td>NaN</td>\n",
       "      <td>NaN</td>\n",
       "      <td>NaN</td>\n",
       "      <td>NaN</td>\n",
       "      <td>NaN</td>\n",
       "      <td>NaN</td>\n",
       "      <td>NaN</td>\n",
       "      <td>20.462228</td>\n",
       "      <td>NaN</td>\n",
       "      <td>NaN</td>\n",
       "      <td>NaN</td>\n",
       "      <td>NaN</td>\n",
       "    </tr>\n",
       "    <tr>\n",
       "      <th>GREEN REGENCY TEACUP AND SAUCER + REGENCY TEA PLATE ROSES  + ROSES REGENCY TEACUP AND SAUCER</th>\n",
       "      <td>NaN</td>\n",
       "      <td>NaN</td>\n",
       "      <td>NaN</td>\n",
       "      <td>NaN</td>\n",
       "      <td>NaN</td>\n",
       "      <td>NaN</td>\n",
       "      <td>20.945479</td>\n",
       "      <td>NaN</td>\n",
       "      <td>NaN</td>\n",
       "      <td>NaN</td>\n",
       "      <td>NaN</td>\n",
       "      <td>NaN</td>\n",
       "    </tr>\n",
       "  </tbody>\n",
       "</table>\n",
       "</div>"
      ],
      "text/plain": [
       "                                                    REGENCY TEA PLATE GREEN  + ROSES REGENCY TEACUP AND SAUCER   \\\n",
       "GREEN REGENCY TEACUP AND SAUCER + REGENCY TEA P...                                          26.010726             \n",
       "REGENCY TEA PLATE GREEN  + ROSES REGENCY TEACUP...                                                NaN             \n",
       "REGENCY TEA PLATE PINK                                                                            NaN             \n",
       "REGENCY TEA PLATE ROSES  + REGENCY TEA PLATE GR...                                                NaN             \n",
       "SET/6 RED SPOTTY PAPER PLATES                                                                     NaN             \n",
       "SET/6 RED SPOTTY PAPER CUPS                                                                       NaN             \n",
       "GREEN REGENCY TEACUP AND SAUCER + REGENCY TEA P...                                                NaN             \n",
       "GREEN REGENCY TEACUP AND SAUCER + REGENCY TEA P...                                                NaN             \n",
       "REGENCY TEA PLATE GREEN                                                                           NaN             \n",
       "REGENCY TEA PLATE ROSES  + REGENCY TEA PLATE PINK                                                 NaN             \n",
       "REGENCY TEA PLATE ROSES  + ROSES REGENCY TEACUP...                                                NaN             \n",
       "GREEN REGENCY TEACUP AND SAUCER + REGENCY TEA P...                                                NaN             \n",
       "\n",
       "                                                    GREEN REGENCY TEACUP AND SAUCER + REGENCY TEA PLATE ROSES   \\\n",
       "GREEN REGENCY TEACUP AND SAUCER + REGENCY TEA P...                                                NaN            \n",
       "REGENCY TEA PLATE GREEN  + ROSES REGENCY TEACUP...                                          26.010726            \n",
       "REGENCY TEA PLATE PINK                                                                            NaN            \n",
       "REGENCY TEA PLATE ROSES  + REGENCY TEA PLATE GR...                                                NaN            \n",
       "SET/6 RED SPOTTY PAPER PLATES                                                                     NaN            \n",
       "SET/6 RED SPOTTY PAPER CUPS                                                                       NaN            \n",
       "GREEN REGENCY TEACUP AND SAUCER + REGENCY TEA P...                                                NaN            \n",
       "GREEN REGENCY TEACUP AND SAUCER + REGENCY TEA P...                                                NaN            \n",
       "REGENCY TEA PLATE GREEN                                                                     20.839579            \n",
       "REGENCY TEA PLATE ROSES  + REGENCY TEA PLATE PINK                                                 NaN            \n",
       "REGENCY TEA PLATE ROSES  + ROSES REGENCY TEACUP...                                                NaN            \n",
       "GREEN REGENCY TEACUP AND SAUCER + REGENCY TEA P...                                                NaN            \n",
       "\n",
       "                                                    REGENCY TEA PLATE ROSES  + REGENCY TEA PLATE GREEN   \\\n",
       "GREEN REGENCY TEACUP AND SAUCER + REGENCY TEA P...                                                NaN     \n",
       "REGENCY TEA PLATE GREEN  + ROSES REGENCY TEACUP...                                                NaN     \n",
       "REGENCY TEA PLATE PINK                                                                      22.386747     \n",
       "REGENCY TEA PLATE ROSES  + REGENCY TEA PLATE GR...                                                NaN     \n",
       "SET/6 RED SPOTTY PAPER PLATES                                                                     NaN     \n",
       "SET/6 RED SPOTTY PAPER CUPS                                                                       NaN     \n",
       "GREEN REGENCY TEACUP AND SAUCER + REGENCY TEA P...                                                NaN     \n",
       "GREEN REGENCY TEACUP AND SAUCER + REGENCY TEA P...                                                NaN     \n",
       "REGENCY TEA PLATE GREEN                                                                           NaN     \n",
       "REGENCY TEA PLATE ROSES  + REGENCY TEA PLATE PINK                                                 NaN     \n",
       "REGENCY TEA PLATE ROSES  + ROSES REGENCY TEACUP...                                                NaN     \n",
       "GREEN REGENCY TEACUP AND SAUCER + REGENCY TEA P...                                                NaN     \n",
       "\n",
       "                                                    REGENCY TEA PLATE PINK  \\\n",
       "GREEN REGENCY TEACUP AND SAUCER + REGENCY TEA P...                     NaN   \n",
       "REGENCY TEA PLATE GREEN  + ROSES REGENCY TEACUP...                     NaN   \n",
       "REGENCY TEA PLATE PINK                                                 NaN   \n",
       "REGENCY TEA PLATE ROSES  + REGENCY TEA PLATE GR...               22.386747   \n",
       "SET/6 RED SPOTTY PAPER PLATES                                          NaN   \n",
       "SET/6 RED SPOTTY PAPER CUPS                                            NaN   \n",
       "GREEN REGENCY TEACUP AND SAUCER + REGENCY TEA P...               21.993293   \n",
       "GREEN REGENCY TEACUP AND SAUCER + REGENCY TEA P...                     NaN   \n",
       "REGENCY TEA PLATE GREEN                                          20.879103   \n",
       "REGENCY TEA PLATE ROSES  + REGENCY TEA PLATE PINK                      NaN   \n",
       "REGENCY TEA PLATE ROSES  + ROSES REGENCY TEACUP...                     NaN   \n",
       "GREEN REGENCY TEACUP AND SAUCER + REGENCY TEA P...                     NaN   \n",
       "\n",
       "                                                    SET/6 RED SPOTTY PAPER CUPS  \\\n",
       "GREEN REGENCY TEACUP AND SAUCER + REGENCY TEA P...                          NaN   \n",
       "REGENCY TEA PLATE GREEN  + ROSES REGENCY TEACUP...                          NaN   \n",
       "REGENCY TEA PLATE PINK                                                      NaN   \n",
       "REGENCY TEA PLATE ROSES  + REGENCY TEA PLATE GR...                          NaN   \n",
       "SET/6 RED SPOTTY PAPER PLATES                                         22.230756   \n",
       "SET/6 RED SPOTTY PAPER CUPS                                                 NaN   \n",
       "GREEN REGENCY TEACUP AND SAUCER + REGENCY TEA P...                          NaN   \n",
       "GREEN REGENCY TEACUP AND SAUCER + REGENCY TEA P...                          NaN   \n",
       "REGENCY TEA PLATE GREEN                                                     NaN   \n",
       "REGENCY TEA PLATE ROSES  + REGENCY TEA PLATE PINK                           NaN   \n",
       "REGENCY TEA PLATE ROSES  + ROSES REGENCY TEACUP...                          NaN   \n",
       "GREEN REGENCY TEACUP AND SAUCER + REGENCY TEA P...                          NaN   \n",
       "\n",
       "                                                    SET/6 RED SPOTTY PAPER PLATES  \\\n",
       "GREEN REGENCY TEACUP AND SAUCER + REGENCY TEA P...                            NaN   \n",
       "REGENCY TEA PLATE GREEN  + ROSES REGENCY TEACUP...                            NaN   \n",
       "REGENCY TEA PLATE PINK                                                        NaN   \n",
       "REGENCY TEA PLATE ROSES  + REGENCY TEA PLATE GR...                            NaN   \n",
       "SET/6 RED SPOTTY PAPER PLATES                                                 NaN   \n",
       "SET/6 RED SPOTTY PAPER CUPS                                             22.230756   \n",
       "GREEN REGENCY TEACUP AND SAUCER + REGENCY TEA P...                            NaN   \n",
       "GREEN REGENCY TEACUP AND SAUCER + REGENCY TEA P...                            NaN   \n",
       "REGENCY TEA PLATE GREEN                                                       NaN   \n",
       "REGENCY TEA PLATE ROSES  + REGENCY TEA PLATE PINK                             NaN   \n",
       "REGENCY TEA PLATE ROSES  + ROSES REGENCY TEACUP...                            NaN   \n",
       "GREEN REGENCY TEACUP AND SAUCER + REGENCY TEA P...                            NaN   \n",
       "\n",
       "                                                    REGENCY TEA PLATE GREEN   \\\n",
       "GREEN REGENCY TEACUP AND SAUCER + REGENCY TEA P...                 20.839579   \n",
       "REGENCY TEA PLATE GREEN  + ROSES REGENCY TEACUP...                       NaN   \n",
       "REGENCY TEA PLATE PINK                                             20.879103   \n",
       "REGENCY TEA PLATE ROSES  + REGENCY TEA PLATE GR...                       NaN   \n",
       "SET/6 RED SPOTTY PAPER PLATES                                            NaN   \n",
       "SET/6 RED SPOTTY PAPER CUPS                                              NaN   \n",
       "GREEN REGENCY TEACUP AND SAUCER + REGENCY TEA P...                       NaN   \n",
       "GREEN REGENCY TEACUP AND SAUCER + REGENCY TEA P...                 21.761086   \n",
       "REGENCY TEA PLATE GREEN                                                  NaN   \n",
       "REGENCY TEA PLATE ROSES  + REGENCY TEA PLATE PINK                  21.473167   \n",
       "REGENCY TEA PLATE ROSES  + ROSES REGENCY TEACUP...                       NaN   \n",
       "GREEN REGENCY TEACUP AND SAUCER + REGENCY TEA P...                 20.945479   \n",
       "\n",
       "                                                    GREEN REGENCY TEACUP AND SAUCER + REGENCY TEA PLATE GREEN   \\\n",
       "GREEN REGENCY TEACUP AND SAUCER + REGENCY TEA P...                                                NaN            \n",
       "REGENCY TEA PLATE GREEN  + ROSES REGENCY TEACUP...                                                NaN            \n",
       "REGENCY TEA PLATE PINK                                                                      21.993293            \n",
       "REGENCY TEA PLATE ROSES  + REGENCY TEA PLATE GR...                                                NaN            \n",
       "SET/6 RED SPOTTY PAPER PLATES                                                                     NaN            \n",
       "SET/6 RED SPOTTY PAPER CUPS                                                                       NaN            \n",
       "GREEN REGENCY TEACUP AND SAUCER + REGENCY TEA P...                                                NaN            \n",
       "GREEN REGENCY TEACUP AND SAUCER + REGENCY TEA P...                                                NaN            \n",
       "REGENCY TEA PLATE GREEN                                                                           NaN            \n",
       "REGENCY TEA PLATE ROSES  + REGENCY TEA PLATE PINK                                                 NaN            \n",
       "REGENCY TEA PLATE ROSES  + ROSES REGENCY TEACUP...                                          20.462228            \n",
       "GREEN REGENCY TEACUP AND SAUCER + REGENCY TEA P...                                                NaN            \n",
       "\n",
       "                                                    GREEN REGENCY TEACUP AND SAUCER + REGENCY TEA PLATE PINK  \\\n",
       "GREEN REGENCY TEACUP AND SAUCER + REGENCY TEA P...                                                NaN          \n",
       "REGENCY TEA PLATE GREEN  + ROSES REGENCY TEACUP...                                                NaN          \n",
       "REGENCY TEA PLATE PINK                                                                            NaN          \n",
       "REGENCY TEA PLATE ROSES  + REGENCY TEA PLATE GR...                                                NaN          \n",
       "SET/6 RED SPOTTY PAPER PLATES                                                                     NaN          \n",
       "SET/6 RED SPOTTY PAPER CUPS                                                                       NaN          \n",
       "GREEN REGENCY TEACUP AND SAUCER + REGENCY TEA P...                                                NaN          \n",
       "GREEN REGENCY TEACUP AND SAUCER + REGENCY TEA P...                                                NaN          \n",
       "REGENCY TEA PLATE GREEN                                                                     21.761086          \n",
       "REGENCY TEA PLATE ROSES  + REGENCY TEA PLATE PINK                                                 NaN          \n",
       "REGENCY TEA PLATE ROSES  + ROSES REGENCY TEACUP...                                                NaN          \n",
       "GREEN REGENCY TEACUP AND SAUCER + REGENCY TEA P...                                                NaN          \n",
       "\n",
       "                                                    REGENCY TEA PLATE ROSES  + REGENCY TEA PLATE PINK  \\\n",
       "GREEN REGENCY TEACUP AND SAUCER + REGENCY TEA P...                                                NaN   \n",
       "REGENCY TEA PLATE GREEN  + ROSES REGENCY TEACUP...                                                NaN   \n",
       "REGENCY TEA PLATE PINK                                                                            NaN   \n",
       "REGENCY TEA PLATE ROSES  + REGENCY TEA PLATE GR...                                                NaN   \n",
       "SET/6 RED SPOTTY PAPER PLATES                                                                     NaN   \n",
       "SET/6 RED SPOTTY PAPER CUPS                                                                       NaN   \n",
       "GREEN REGENCY TEACUP AND SAUCER + REGENCY TEA P...                                                NaN   \n",
       "GREEN REGENCY TEACUP AND SAUCER + REGENCY TEA P...                                                NaN   \n",
       "REGENCY TEA PLATE GREEN                                                                     21.473167   \n",
       "REGENCY TEA PLATE ROSES  + REGENCY TEA PLATE PINK                                                 NaN   \n",
       "REGENCY TEA PLATE ROSES  + ROSES REGENCY TEACUP...                                                NaN   \n",
       "GREEN REGENCY TEACUP AND SAUCER + REGENCY TEA P...                                                NaN   \n",
       "\n",
       "                                                    REGENCY TEA PLATE ROSES  + ROSES REGENCY TEACUP AND SAUCER   \\\n",
       "GREEN REGENCY TEACUP AND SAUCER + REGENCY TEA P...                                                NaN             \n",
       "REGENCY TEA PLATE GREEN  + ROSES REGENCY TEACUP...                                                NaN             \n",
       "REGENCY TEA PLATE PINK                                                                            NaN             \n",
       "REGENCY TEA PLATE ROSES  + REGENCY TEA PLATE GR...                                                NaN             \n",
       "SET/6 RED SPOTTY PAPER PLATES                                                                     NaN             \n",
       "SET/6 RED SPOTTY PAPER CUPS                                                                       NaN             \n",
       "GREEN REGENCY TEACUP AND SAUCER + REGENCY TEA P...                                          20.462228             \n",
       "GREEN REGENCY TEACUP AND SAUCER + REGENCY TEA P...                                                NaN             \n",
       "REGENCY TEA PLATE GREEN                                                                           NaN             \n",
       "REGENCY TEA PLATE ROSES  + REGENCY TEA PLATE PINK                                                 NaN             \n",
       "REGENCY TEA PLATE ROSES  + ROSES REGENCY TEACUP...                                                NaN             \n",
       "GREEN REGENCY TEACUP AND SAUCER + REGENCY TEA P...                                                NaN             \n",
       "\n",
       "                                                    GREEN REGENCY TEACUP AND SAUCER + REGENCY TEA PLATE ROSES  + ROSES REGENCY TEACUP AND SAUCER   \n",
       "GREEN REGENCY TEACUP AND SAUCER + REGENCY TEA P...                                                NaN                                              \n",
       "REGENCY TEA PLATE GREEN  + ROSES REGENCY TEACUP...                                                NaN                                              \n",
       "REGENCY TEA PLATE PINK                                                                            NaN                                              \n",
       "REGENCY TEA PLATE ROSES  + REGENCY TEA PLATE GR...                                                NaN                                              \n",
       "SET/6 RED SPOTTY PAPER PLATES                                                                     NaN                                              \n",
       "SET/6 RED SPOTTY PAPER CUPS                                                                       NaN                                              \n",
       "GREEN REGENCY TEACUP AND SAUCER + REGENCY TEA P...                                                NaN                                              \n",
       "GREEN REGENCY TEACUP AND SAUCER + REGENCY TEA P...                                                NaN                                              \n",
       "REGENCY TEA PLATE GREEN                                                                     20.945479                                              \n",
       "REGENCY TEA PLATE ROSES  + REGENCY TEA PLATE PINK                                                 NaN                                              \n",
       "REGENCY TEA PLATE ROSES  + ROSES REGENCY TEACUP...                                                NaN                                              \n",
       "GREEN REGENCY TEACUP AND SAUCER + REGENCY TEA P...                                                NaN                                              "
      ]
     },
     "execution_count": 34,
     "metadata": {},
     "output_type": "execute_result"
    }
   ],
   "source": [
    "most_lift"
   ]
  },
  {
   "cell_type": "code",
   "execution_count": 35,
   "id": "eee85b8b-02da-4737-bc60-d24a4063b2e9",
   "metadata": {
    "tags": []
   },
   "outputs": [],
   "source": [
    "most_conf = rules.sort_values(by=\"confidence\", ascending=False).head(20).pivot_table(\n",
    "    index='antecedents', \n",
    "    columns='consequents', \n",
    "    values='confidence',\n",
    "    aggfunc='sum'\n",
    ")\n",
    "\n",
    "most_conf.index = [\n",
    "    \" + \".join([df.loc[df[\"StockCode\"] == item][\"Description\"].unique()[0] for item in list(x)]) for x in most_conf.index\n",
    "]\n",
    "\n",
    "most_conf.columns = [\n",
    "    \" + \".join([df.loc[df[\"StockCode\"] == item][\"Description\"].unique()[0] for item in list(x)]) for x in most_conf.columns\n",
    "]"
   ]
  },
  {
   "cell_type": "markdown",
   "id": "09459b80-f279-4b62-9aa6-a396e2025516",
   "metadata": {},
   "source": [
    "### 1.3 Visualization"
   ]
  },
  {
   "cell_type": "code",
   "execution_count": 36,
   "id": "758fc772-6540-4436-9943-a362dcb8a220",
   "metadata": {
    "tags": []
   },
   "outputs": [
    {
     "data": {
      "image/png": "[encoded data removed]",
      "text/plain": [
       "<Figure size 640x480 with 2 Axes>"
      ]
     },
     "metadata": {},
     "output_type": "display_data"
    }
   ],
   "source": [
    "ax = plt.subplot()\n",
    "sns.heatmap(\n",
    "    most_lift, \n",
    "    annot=True, \n",
    "    annot_kws={\"size\": 6},\n",
    "    # fmt=\".1f\", \n",
    "    ax=ax\n",
    ")\n",
    "ax.set_title(\"Top 20 Rules by Lift\")\n",
    "ax.set_xlabel(\"Consequent\")\n",
    "ax.set_ylabel(\"Antecedent\")\n",
    "ax.yaxis.set_ticklabels(list(most_lift.index), fontsize=6)\n",
    "ax.xaxis.set_ticklabels(list(most_lift.columns), fontsize=6)\n",
    "plt.show()"
   ]
  },
  {
   "cell_type": "code",
   "execution_count": 37,
   "id": "bff3a536-89de-4b3e-b649-cc4e5295bff6",
   "metadata": {
    "tags": []
   },
   "outputs": [
    {
     "data": {
      "image/png": "[encoded data removed]",
      "text/plain": [
       "<Figure size 640x480 with 2 Axes>"
      ]
     },
     "metadata": {},
     "output_type": "display_data"
    }
   ],
   "source": [
    "ax = plt.subplot()\n",
    "sns.heatmap(\n",
    "    most_conf, \n",
    "    annot=True, \n",
    "    annot_kws={\"size\": 6},\n",
    "    fmt=\".1%\", \n",
    "    ax=ax\n",
    ")\n",
    "ax.set_title(\"Top 20 Rules by Confidence\")\n",
    "ax.set_xlabel(\"Consequent\")\n",
    "ax.set_ylabel(\"Antecedent\")\n",
    "ax.yaxis.set_ticklabels(list(most_conf.index), fontsize=6)\n",
    "ax.xaxis.set_ticklabels(list(most_conf.columns), fontsize=6)\n",
    "plt.show()"
   ]
  },
  {
   "cell_type": "code",
   "execution_count": 38,
   "id": "0ecf62c5-799a-4c32-9366-66929f4ad0f8",
   "metadata": {
    "tags": []
   },
   "outputs": [
    {
     "data": {
      "image/png": "[encoded data removed]",
      "text/plain": [
       "<Figure size 640x480 with 2 Axes>"
      ]
     },
     "metadata": {},
     "output_type": "display_data"
    }
   ],
   "source": [
    "# linear with confidence & inverse with support as lift = confidence / support\n",
    "\n",
    "fig = plt.figure()\n",
    "ax1 = fig.add_subplot(111)\n",
    "ax2 = ax1.twiny()\n",
    "\n",
    "rules[[\"support\",\"lift\"]].plot(\n",
    "    kind=\"scatter\", x=\"support\", y=\"lift\", ax=ax1\n",
    ")\n",
    "rules[[\"confidence\",\"lift\"]].plot(\n",
    "    kind=\"scatter\", x=\"confidence\", y=\"lift\", ax=ax2, color=\"orange\", alpha=0.3\n",
    ")\n",
    "\n",
    "ax1.legend([\"lift vs. support\",], loc=\"upper right\")\n",
    "ax2.legend([\"lift vs. confidence\",], loc=\"upper left\")\n",
    "plt.grid()\n",
    "plt.show()"
   ]
  },
  {
   "cell_type": "markdown",
   "id": "b5bb4414-6a69-47cf-8086-539e0c5fee28",
   "metadata": {},
   "source": [
    "## 2. User-Based Collaborative Filtering"
   ]
  },
  {
   "cell_type": "markdown",
   "id": "53ab8647-81aa-4912-b4bd-ea7cbbab1628",
   "metadata": {},
   "source": [
    "### CF Training"
   ]
  },
  {
   "cell_type": "code",
   "execution_count": 44,
   "id": "3e5193b5-738a-4be9-af87-6cab4ff67768",
   "metadata": {
    "tags": []
   },
   "outputs": [],
   "source": [
    "from sklearn.metrics.pairwise import cosine_similarity\n",
    "\n",
    "user_user_sim_matrix = pd.DataFrame(\n",
    "    cosine_similarity(customer_item_matrix)\n",
    ")"
   ]
  },
  {
   "cell_type": "code",
   "execution_count": 45,
   "id": "d3b03bbe-7e91-4c9c-8c79-e2c2a05ff5ec",
   "metadata": {
    "tags": []
   },
   "outputs": [
    {
     "data": {
      "text/plain": [
       "(4372, 4372)"
      ]
     },
     "execution_count": 45,
     "metadata": {},
     "output_type": "execute_result"
    }
   ],
   "source": [
    "user_user_sim_matrix.shape"
   ]
  },
  {
   "cell_type": "code",
   "execution_count": 46,
   "id": "f18a64e1-1ec7-47b7-b8cf-519d83f0eace",
   "metadata": {
    "tags": []
   },
   "outputs": [
    {
     "name": "stderr",
     "output_type": "stream",
     "text": [
      "/home/kubwa/anaconda3/envs/lecture/lib/python3.11/site-packages/pandas/core/dtypes/cast.py:1641: DeprecationWarning: np.find_common_type is deprecated.  Please use `np.result_type` or `np.promote_types`.\n",
      "See https://numpy.org/devdocs/release/1.25.0-notes.html and the docs for more information.  (Deprecated NumPy 1.25)\n",
      "  return np.find_common_type(types, [])\n"
     ]
    }
   ],
   "source": [
    "user_user_sim_matrix.columns = customer_item_matrix.index\n",
    "\n",
    "user_user_sim_matrix['CustomerID'] = customer_item_matrix.index\n",
    "user_user_sim_matrix = user_user_sim_matrix.set_index('CustomerID')"
   ]
  },
  {
   "cell_type": "code",
   "execution_count": 47,
   "id": "b816f152-32cb-4a24-a97e-1aeda05f12b6",
   "metadata": {
    "tags": []
   },
   "outputs": [
    {
     "name": "stderr",
     "output_type": "stream",
     "text": [
      "/home/kubwa/anaconda3/envs/lecture/lib/python3.11/site-packages/pandas/core/dtypes/cast.py:1641: DeprecationWarning: np.find_common_type is deprecated.  Please use `np.result_type` or `np.promote_types`.\n",
      "See https://numpy.org/devdocs/release/1.25.0-notes.html and the docs for more information.  (Deprecated NumPy 1.25)\n",
      "  return np.find_common_type(types, [])\n",
      "/home/kubwa/anaconda3/envs/lecture/lib/python3.11/site-packages/pandas/core/dtypes/cast.py:1641: DeprecationWarning: np.find_common_type is deprecated.  Please use `np.result_type` or `np.promote_types`.\n",
      "See https://numpy.org/devdocs/release/1.25.0-notes.html and the docs for more information.  (Deprecated NumPy 1.25)\n",
      "  return np.find_common_type(types, [])\n"
     ]
    },
    {
     "data": {
      "text/html": [
       "<div>\n",
       "<style scoped>\n",
       "    .dataframe tbody tr th:only-of-type {\n",
       "        vertical-align: middle;\n",
       "    }\n",
       "\n",
       "    .dataframe tbody tr th {\n",
       "        vertical-align: top;\n",
       "    }\n",
       "\n",
       "    .dataframe thead th {\n",
       "        text-align: right;\n",
       "    }\n",
       "</style>\n",
       "<table border=\"1\" class=\"dataframe\">\n",
       "  <thead>\n",
       "    <tr style=\"text-align: right;\">\n",
       "      <th>CustomerID</th>\n",
       "      <th>12347.0</th>\n",
       "      <th>12348.0</th>\n",
       "      <th>12349.0</th>\n",
       "      <th>12350.0</th>\n",
       "      <th>12352.0</th>\n",
       "    </tr>\n",
       "    <tr>\n",
       "      <th>CustomerID</th>\n",
       "      <th></th>\n",
       "      <th></th>\n",
       "      <th></th>\n",
       "      <th></th>\n",
       "      <th></th>\n",
       "    </tr>\n",
       "  </thead>\n",
       "  <tbody>\n",
       "    <tr>\n",
       "      <th>12347.0</th>\n",
       "      <td>1.000000</td>\n",
       "      <td>0.063022</td>\n",
       "      <td>0.046130</td>\n",
       "      <td>0.047795</td>\n",
       "      <td>0.038814</td>\n",
       "    </tr>\n",
       "    <tr>\n",
       "      <th>12348.0</th>\n",
       "      <td>0.063022</td>\n",
       "      <td>1.000000</td>\n",
       "      <td>0.024953</td>\n",
       "      <td>0.051709</td>\n",
       "      <td>0.027995</td>\n",
       "    </tr>\n",
       "    <tr>\n",
       "      <th>12349.0</th>\n",
       "      <td>0.046130</td>\n",
       "      <td>0.024953</td>\n",
       "      <td>1.000000</td>\n",
       "      <td>0.056773</td>\n",
       "      <td>0.138314</td>\n",
       "    </tr>\n",
       "    <tr>\n",
       "      <th>12350.0</th>\n",
       "      <td>0.047795</td>\n",
       "      <td>0.051709</td>\n",
       "      <td>0.056773</td>\n",
       "      <td>1.000000</td>\n",
       "      <td>0.031846</td>\n",
       "    </tr>\n",
       "    <tr>\n",
       "      <th>12352.0</th>\n",
       "      <td>0.038814</td>\n",
       "      <td>0.027995</td>\n",
       "      <td>0.138314</td>\n",
       "      <td>0.031846</td>\n",
       "      <td>1.000000</td>\n",
       "    </tr>\n",
       "  </tbody>\n",
       "</table>\n",
       "</div>"
      ],
      "text/plain": [
       "CustomerID   12347.0   12348.0   12349.0   12350.0   12352.0\n",
       "CustomerID                                                  \n",
       "12347.0     1.000000  0.063022  0.046130  0.047795  0.038814\n",
       "12348.0     0.063022  1.000000  0.024953  0.051709  0.027995\n",
       "12349.0     0.046130  0.024953  1.000000  0.056773  0.138314\n",
       "12350.0     0.047795  0.051709  0.056773  1.000000  0.031846\n",
       "12352.0     0.038814  0.027995  0.138314  0.031846  1.000000"
      ]
     },
     "execution_count": 47,
     "metadata": {},
     "output_type": "execute_result"
    }
   ],
   "source": [
    "user_user_sim_matrix.loc[\n",
    "    [12347.0, 12348.0, 12349.0, 12350.0, 12352.0],\n",
    "    [12347.0, 12348.0, 12349.0, 12350.0, 12352.0]\n",
    "]"
   ]
  },
  {
   "cell_type": "markdown",
   "id": "fda6acf8-6afd-480c-9084-caf3bcf5d99f",
   "metadata": {},
   "source": [
    "### Making Recommendations"
   ]
  },
  {
   "cell_type": "code",
   "execution_count": 49,
   "id": "29e9c4b5-8949-4810-9951-b9c0f0a6c007",
   "metadata": {
    "tags": []
   },
   "outputs": [],
   "source": [
    "TARGET_CUSTOMER = 14806.0"
   ]
  },
  {
   "cell_type": "code",
   "execution_count": 50,
   "id": "fefa8c57-d4fc-41d8-8af5-0da274a63b07",
   "metadata": {
    "tags": []
   },
   "outputs": [
    {
     "name": "stdout",
     "output_type": "stream",
     "text": [
      "Similar Customers to TARGET\n"
     ]
    },
    {
     "data": {
      "text/plain": [
       "CustomerID\n",
       "14806.0    1.000000\n",
       "13919.0    0.251478\n",
       "12561.0    0.226134\n",
       "13711.0    0.181818\n",
       "12618.0    0.181818\n",
       "13116.0    0.165145\n",
       "12497.0    0.161165\n",
       "17475.0    0.161165\n",
       "12372.0    0.155126\n",
       "14840.0    0.150756\n",
       "Name: 14806.0, dtype: float64"
      ]
     },
     "execution_count": 50,
     "metadata": {},
     "output_type": "execute_result"
    }
   ],
   "source": [
    "print(\"Similar Customers to TARGET\")\n",
    "user_user_sim_matrix.loc[TARGET_CUSTOMER].sort_values(ascending=False).head(10)"
   ]
  },
  {
   "cell_type": "code",
   "execution_count": 51,
   "id": "bf36c4d3-33bd-43e9-9503-a0d4b282d2b4",
   "metadata": {
    "scrolled": true,
    "tags": []
   },
   "outputs": [
    {
     "data": {
      "text/plain": [
       "{21499,\n",
       " 21500,\n",
       " 22704,\n",
       " 22711,\n",
       " 23079,\n",
       " 23232,\n",
       " 23550,\n",
       " '72351B',\n",
       " '84508C',\n",
       " 84580,\n",
       " 85175}"
      ]
     },
     "execution_count": 51,
     "metadata": {},
     "output_type": "execute_result"
    }
   ],
   "source": [
    "items_bought_by_target = set(\n",
    "    df.loc[\n",
    "        df[\"CustomerID\"] == TARGET_CUSTOMER\n",
    "    ][\"StockCode\"].unique()\n",
    ")\n",
    "items_bought_by_target"
   ]
  },
  {
   "cell_type": "markdown",
   "id": "c8dbba70-bb9a-4e0e-ac88-dbd91a2cf9ef",
   "metadata": {},
   "source": [
    "### Recommending by the most similar customer"
   ]
  },
  {
   "cell_type": "code",
   "execution_count": 52,
   "id": "92d169bd-3378-4749-bce7-e59a9013b38c",
   "metadata": {
    "scrolled": true,
    "tags": []
   },
   "outputs": [
    {
     "data": {
      "text/plain": [
       "{'16161P',\n",
       " '16161U',\n",
       " '16169E',\n",
       " 21498,\n",
       " 21499,\n",
       " 21500,\n",
       " 21731,\n",
       " 22046,\n",
       " 22567,\n",
       " 22666,\n",
       " 22704,\n",
       " 22707,\n",
       " 22711,\n",
       " 22847,\n",
       " 22961,\n",
       " 23233,\n",
       " 23511,\n",
       " 23512,\n",
       " 23513,\n",
       " 23515,\n",
       " 23518,\n",
       " 23546,\n",
       " 23547,\n",
       " 'POST'}"
      ]
     },
     "execution_count": 52,
     "metadata": {},
     "output_type": "execute_result"
    }
   ],
   "source": [
    "items_bought_by_sim = set(\n",
    "    df.loc[\n",
    "        df[\"CustomerID\"] == 13919.0\n",
    "    ][\"StockCode\"].unique()\n",
    ")\n",
    "items_bought_by_sim"
   ]
  },
  {
   "cell_type": "code",
   "execution_count": 53,
   "id": "c5cdd087-1aca-40a3-9e07-064f78691b9b",
   "metadata": {
    "tags": []
   },
   "outputs": [
    {
     "name": "stderr",
     "output_type": "stream",
     "text": [
      "/home/kubwa/anaconda3/envs/lecture/lib/python3.11/site-packages/pandas/core/algorithms.py:522: DeprecationWarning: np.find_common_type is deprecated.  Please use `np.result_type` or `np.promote_types`.\n",
      "See https://numpy.org/devdocs/release/1.25.0-notes.html and the docs for more information.  (Deprecated NumPy 1.25)\n",
      "  common = np.find_common_type([values.dtype, comps_array.dtype], [])\n"
     ]
    },
    {
     "data": {
      "text/html": [
       "<div>\n",
       "<style scoped>\n",
       "    .dataframe tbody tr th:only-of-type {\n",
       "        vertical-align: middle;\n",
       "    }\n",
       "\n",
       "    .dataframe tbody tr th {\n",
       "        vertical-align: top;\n",
       "    }\n",
       "\n",
       "    .dataframe thead th {\n",
       "        text-align: right;\n",
       "    }\n",
       "</style>\n",
       "<table border=\"1\" class=\"dataframe\">\n",
       "  <thead>\n",
       "    <tr style=\"text-align: right;\">\n",
       "      <th></th>\n",
       "      <th>StockCode</th>\n",
       "      <th>Description</th>\n",
       "    </tr>\n",
       "  </thead>\n",
       "  <tbody>\n",
       "    <tr>\n",
       "      <th>39</th>\n",
       "      <td>21731</td>\n",
       "      <td>RED TOADSTOOL LED NIGHT LIGHT</td>\n",
       "    </tr>\n",
       "    <tr>\n",
       "      <th>45</th>\n",
       "      <td>POST</td>\n",
       "      <td>POSTAGE</td>\n",
       "    </tr>\n",
       "    <tr>\n",
       "      <th>105</th>\n",
       "      <td>22961</td>\n",
       "      <td>JAM MAKING SET PRINTED</td>\n",
       "    </tr>\n",
       "    <tr>\n",
       "      <th>1217</th>\n",
       "      <td>21498</td>\n",
       "      <td>RED RETROSPOT WRAP</td>\n",
       "    </tr>\n",
       "    <tr>\n",
       "      <th>1296</th>\n",
       "      <td>22666</td>\n",
       "      <td>RECIPE BOX PANTRY YELLOW DESIGN</td>\n",
       "    </tr>\n",
       "    <tr>\n",
       "      <th>1299</th>\n",
       "      <td>22567</td>\n",
       "      <td>20 DOLLY PEGS RETROSPOT</td>\n",
       "    </tr>\n",
       "    <tr>\n",
       "      <th>2116</th>\n",
       "      <td>22847</td>\n",
       "      <td>BREAD BIN DINER STYLE IVORY</td>\n",
       "    </tr>\n",
       "    <tr>\n",
       "      <th>5016</th>\n",
       "      <td>16161P</td>\n",
       "      <td>WRAP ENGLISH ROSE</td>\n",
       "    </tr>\n",
       "    <tr>\n",
       "      <th>9525</th>\n",
       "      <td>16161U</td>\n",
       "      <td>WRAP SUKI AND FRIENDS</td>\n",
       "    </tr>\n",
       "    <tr>\n",
       "      <th>9780</th>\n",
       "      <td>22847</td>\n",
       "      <td>BREAD BIN, DINER STYLE, IVORY</td>\n",
       "    </tr>\n",
       "    <tr>\n",
       "      <th>37655</th>\n",
       "      <td>22707</td>\n",
       "      <td>WRAP MONSTER FUN</td>\n",
       "    </tr>\n",
       "    <tr>\n",
       "      <th>41750</th>\n",
       "      <td>22046</td>\n",
       "      <td>TEA PARTY  WRAPPING PAPER</td>\n",
       "    </tr>\n",
       "    <tr>\n",
       "      <th>58513</th>\n",
       "      <td>23233</td>\n",
       "      <td>WRAP POPPIES  DESIGN</td>\n",
       "    </tr>\n",
       "    <tr>\n",
       "      <th>269898</th>\n",
       "      <td>23546</td>\n",
       "      <td>WRAP PAISLEY PARK</td>\n",
       "    </tr>\n",
       "    <tr>\n",
       "      <th>272071</th>\n",
       "      <td>23547</td>\n",
       "      <td>WRAP FLOWER SHOP</td>\n",
       "    </tr>\n",
       "    <tr>\n",
       "      <th>273724</th>\n",
       "      <td>16169E</td>\n",
       "      <td>WRAP 50'S  CHRISTMAS</td>\n",
       "    </tr>\n",
       "    <tr>\n",
       "      <th>353509</th>\n",
       "      <td>23511</td>\n",
       "      <td>EMBROIDERED RIBBON REEL EMILY</td>\n",
       "    </tr>\n",
       "    <tr>\n",
       "      <th>354136</th>\n",
       "      <td>23512</td>\n",
       "      <td>EMBROIDERED RIBBON REEL ROSIE</td>\n",
       "    </tr>\n",
       "    <tr>\n",
       "      <th>354137</th>\n",
       "      <td>23515</td>\n",
       "      <td>EMBROIDERED RIBBON REEL DAISY</td>\n",
       "    </tr>\n",
       "    <tr>\n",
       "      <th>354140</th>\n",
       "      <td>23518</td>\n",
       "      <td>EMBROIDERED RIBBON REEL RACHEL</td>\n",
       "    </tr>\n",
       "    <tr>\n",
       "      <th>354254</th>\n",
       "      <td>23513</td>\n",
       "      <td>EMBROIDERED RIBBON REEL SUSIE</td>\n",
       "    </tr>\n",
       "  </tbody>\n",
       "</table>\n",
       "</div>"
      ],
      "text/plain": [
       "       StockCode                      Description\n",
       "39         21731    RED TOADSTOOL LED NIGHT LIGHT\n",
       "45          POST                          POSTAGE\n",
       "105        22961           JAM MAKING SET PRINTED\n",
       "1217       21498              RED RETROSPOT WRAP \n",
       "1296       22666  RECIPE BOX PANTRY YELLOW DESIGN\n",
       "1299       22567          20 DOLLY PEGS RETROSPOT\n",
       "2116       22847      BREAD BIN DINER STYLE IVORY\n",
       "5016      16161P               WRAP ENGLISH ROSE \n",
       "9525      16161U            WRAP SUKI AND FRIENDS\n",
       "9780       22847    BREAD BIN, DINER STYLE, IVORY\n",
       "37655      22707                WRAP MONSTER FUN \n",
       "41750      22046       TEA PARTY  WRAPPING PAPER \n",
       "58513      23233             WRAP POPPIES  DESIGN\n",
       "269898     23546               WRAP PAISLEY PARK \n",
       "272071     23547               WRAP FLOWER SHOP  \n",
       "273724    16169E             WRAP 50'S  CHRISTMAS\n",
       "353509     23511   EMBROIDERED RIBBON REEL EMILY \n",
       "354136     23512    EMBROIDERED RIBBON REEL ROSIE\n",
       "354137     23515   EMBROIDERED RIBBON REEL DAISY \n",
       "354140     23518  EMBROIDERED RIBBON REEL RACHEL \n",
       "354254     23513   EMBROIDERED RIBBON REEL SUSIE "
      ]
     },
     "execution_count": 53,
     "metadata": {},
     "output_type": "execute_result"
    }
   ],
   "source": [
    "items_bought_by_sim_but_not_by_target = items_bought_by_sim - items_bought_by_target\n",
    "df.loc[\n",
    "    df[\"StockCode\"].isin(items_bought_by_sim_but_not_by_target)\n",
    "][[\"StockCode\", \"Description\"]].drop_duplicates()"
   ]
  },
  {
   "cell_type": "markdown",
   "id": "d785722d-d95e-4baa-af2d-207e4db48779",
   "metadata": {},
   "source": [
    "### Recommending by Similar Sums"
   ]
  },
  {
   "cell_type": "code",
   "execution_count": 54,
   "id": "2d33c867-270c-4945-bad2-c46686c19be4",
   "metadata": {
    "tags": []
   },
   "outputs": [
    {
     "data": {
      "text/plain": [
       "{14806.0: 1.0,\n",
       " 13919.0: 0.2514778453847726,\n",
       " 12561.0: 0.22613350843332272,\n",
       " 13711.0: 0.18181818181818182,\n",
       " 12618.0: 0.18181818181818182,\n",
       " 13116.0: 0.1651445647689541,\n",
       " 12497.0: 0.16116459280507606,\n",
       " 17475.0: 0.16116459280507606,\n",
       " 12372.0: 0.15512630699850574,\n",
       " 14840.0: 0.15075567228888181,\n",
       " 15160.0: 0.15075567228888181}"
      ]
     },
     "execution_count": 54,
     "metadata": {},
     "output_type": "execute_result"
    }
   ],
   "source": [
    "top10_similar_users = user_user_sim_matrix.loc[TARGET_CUSTOMER].sort_values(ascending=False).head(11).to_dict()\n",
    "top10_similar_users"
   ]
  },
  {
   "cell_type": "code",
   "execution_count": 55,
   "id": "ea180dcc-916d-4337-9c88-f61710909f1c",
   "metadata": {
    "tags": []
   },
   "outputs": [],
   "source": [
    "potential_rec_items = {}\n",
    "for user, cos_sim in top10_similar_users.items():\n",
    "    if user == TARGET_CUSTOMER:\n",
    "        continue\n",
    "        \n",
    "    items_bought_by_sim = list(set(\n",
    "        df.loc[\n",
    "            df[\"CustomerID\"] == user\n",
    "        ][\"StockCode\"].unique()\n",
    "    ))\n",
    "\n",
    "    for each_item in items_bought_by_sim:\n",
    "        if each_item not in potential_rec_items:\n",
    "            potential_rec_items[each_item] = 0\n",
    "        potential_rec_items[each_item] += cos_sim\n",
    "\n",
    "potential_rec_items = [(key, val) for key, val in potential_rec_items.items()]\n",
    "potential_rec_items = sorted(potential_rec_items, key=lambda x: x[1], reverse=True)"
   ]
  },
  {
   "cell_type": "code",
   "execution_count": 56,
   "id": "fa7d5cd8-b629-4fe0-bdc5-fcc11d899dd1",
   "metadata": {
    "tags": []
   },
   "outputs": [
    {
     "data": {
      "text/plain": [
       "[(21499, 1.328721467833565),\n",
       " (21500, 1.328721467833565),\n",
       " (21498, 0.8039205113921255),\n",
       " ('POST', 0.7495869270065362),\n",
       " (22704, 0.632737660816601),\n",
       " ('16161U', 0.5677687451883544),\n",
       " (22138, 0.4981090816217636),\n",
       " (22711, 0.4066041523832783),\n",
       " (22631, 0.38125981543182846),\n",
       " (22326, 0.38125981543182846)]"
      ]
     },
     "execution_count": 56,
     "metadata": {},
     "output_type": "execute_result"
    }
   ],
   "source": [
    "potential_rec_items[:10]"
   ]
  },
  {
   "cell_type": "code",
   "execution_count": 57,
   "id": "818ddf10-5342-4bf6-96a6-3eb78ad632ec",
   "metadata": {
    "tags": []
   },
   "outputs": [
    {
     "name": "stderr",
     "output_type": "stream",
     "text": [
      "/home/kubwa/anaconda3/envs/lecture/lib/python3.11/site-packages/pandas/core/algorithms.py:522: DeprecationWarning: np.find_common_type is deprecated.  Please use `np.result_type` or `np.promote_types`.\n",
      "See https://numpy.org/devdocs/release/1.25.0-notes.html and the docs for more information.  (Deprecated NumPy 1.25)\n",
      "  common = np.find_common_type([values.dtype, comps_array.dtype], [])\n"
     ]
    },
    {
     "data": {
      "text/html": [
       "<div>\n",
       "<style scoped>\n",
       "    .dataframe tbody tr th:only-of-type {\n",
       "        vertical-align: middle;\n",
       "    }\n",
       "\n",
       "    .dataframe tbody tr th {\n",
       "        vertical-align: top;\n",
       "    }\n",
       "\n",
       "    .dataframe thead th {\n",
       "        text-align: right;\n",
       "    }\n",
       "</style>\n",
       "<table border=\"1\" class=\"dataframe\">\n",
       "  <thead>\n",
       "    <tr style=\"text-align: right;\">\n",
       "      <th></th>\n",
       "      <th>Description</th>\n",
       "    </tr>\n",
       "    <tr>\n",
       "      <th>StockCode</th>\n",
       "      <th></th>\n",
       "    </tr>\n",
       "  </thead>\n",
       "  <tbody>\n",
       "    <tr>\n",
       "      <th>21499</th>\n",
       "      <td>BLUE POLKADOT WRAP</td>\n",
       "    </tr>\n",
       "    <tr>\n",
       "      <th>21500</th>\n",
       "      <td>PINK POLKADOT WRAP</td>\n",
       "    </tr>\n",
       "    <tr>\n",
       "      <th>21498</th>\n",
       "      <td>RED RETROSPOT WRAP</td>\n",
       "    </tr>\n",
       "    <tr>\n",
       "      <th>POST</th>\n",
       "      <td>POSTAGE</td>\n",
       "    </tr>\n",
       "    <tr>\n",
       "      <th>22704</th>\n",
       "      <td>WRAP RED APPLES</td>\n",
       "    </tr>\n",
       "    <tr>\n",
       "      <th>16161U</th>\n",
       "      <td>WRAP SUKI AND FRIENDS</td>\n",
       "    </tr>\n",
       "    <tr>\n",
       "      <th>22138</th>\n",
       "      <td>BAKING SET 9 PIECE RETROSPOT</td>\n",
       "    </tr>\n",
       "    <tr>\n",
       "      <th>22711</th>\n",
       "      <td>WRAP CIRCUS PARADE</td>\n",
       "    </tr>\n",
       "    <tr>\n",
       "      <th>22631</th>\n",
       "      <td>CIRCUS PARADE LUNCH BOX</td>\n",
       "    </tr>\n",
       "    <tr>\n",
       "      <th>22326</th>\n",
       "      <td>ROUND SNACK BOXES SET OF4 WOODLAND</td>\n",
       "    </tr>\n",
       "  </tbody>\n",
       "</table>\n",
       "</div>"
      ],
      "text/plain": [
       "                                   Description\n",
       "StockCode                                     \n",
       "21499                       BLUE POLKADOT WRAP\n",
       "21500                      PINK POLKADOT WRAP \n",
       "21498                      RED RETROSPOT WRAP \n",
       "POST                                   POSTAGE\n",
       "22704                         WRAP RED APPLES \n",
       "16161U                   WRAP SUKI AND FRIENDS\n",
       "22138            BAKING SET 9 PIECE RETROSPOT \n",
       "22711                       WRAP CIRCUS PARADE\n",
       "22631                 CIRCUS PARADE LUNCH BOX \n",
       "22326      ROUND SNACK BOXES SET OF4 WOODLAND "
      ]
     },
     "execution_count": 57,
     "metadata": {},
     "output_type": "execute_result"
    }
   ],
   "source": [
    "top_10_items = [x[0] for x in potential_rec_items[:10]]\n",
    "df.loc[\n",
    "    df[\"StockCode\"].isin(top_10_items)\n",
    "][[\"StockCode\", \"Description\"]].drop_duplicates().set_index(\n",
    "    \"StockCode\"\n",
    ").loc[top_10_items]"
   ]
  },
  {
   "cell_type": "markdown",
   "id": "658d9b44-341a-4d1b-803c-6865b26192a8",
   "metadata": {},
   "source": [
    "### Recommending by Most Bought by Similar Customers"
   ]
  },
  {
   "cell_type": "code",
   "execution_count": 58,
   "id": "1343160d-892c-48ef-bcae-98c3723cf297",
   "metadata": {
    "tags": []
   },
   "outputs": [
    {
     "data": {
      "text/plain": [
       "{14806.0: 1.0,\n",
       " 13919.0: 0.2514778453847726,\n",
       " 12561.0: 0.22613350843332272,\n",
       " 13711.0: 0.18181818181818182,\n",
       " 12618.0: 0.18181818181818182,\n",
       " 13116.0: 0.1651445647689541,\n",
       " 12497.0: 0.16116459280507606,\n",
       " 17475.0: 0.16116459280507606,\n",
       " 12372.0: 0.15512630699850574,\n",
       " 14840.0: 0.15075567228888181,\n",
       " 15160.0: 0.15075567228888181}"
      ]
     },
     "execution_count": 58,
     "metadata": {},
     "output_type": "execute_result"
    }
   ],
   "source": [
    "top10_similar_users = user_user_sim_matrix.loc[TARGET_CUSTOMER].sort_values(ascending=False).head(11).to_dict()\n",
    "top10_similar_users"
   ]
  },
  {
   "cell_type": "code",
   "execution_count": 59,
   "id": "33cc7938-aafa-4630-a72a-7f1aec0f5750",
   "metadata": {
    "tags": []
   },
   "outputs": [],
   "source": [
    "potential_rec_items = {}\n",
    "for user, cos_sim in top10_similar_users.items():\n",
    "    if user == TARGET_CUSTOMER:\n",
    "        continue\n",
    "        \n",
    "    items_bought_by_sim = list(set(\n",
    "        df.loc[\n",
    "            df[\"CustomerID\"] == user\n",
    "        ][\"StockCode\"].unique()\n",
    "    ))\n",
    "\n",
    "    for each_item in items_bought_by_sim:\n",
    "        if each_item not in potential_rec_items:\n",
    "            potential_rec_items[each_item] = 0\n",
    "        potential_rec_items[each_item] += 1\n",
    "\n",
    "potential_rec_items = [(key, val) for key, val in potential_rec_items.items()]\n",
    "potential_rec_items = sorted(potential_rec_items, key=lambda x: x[1], reverse=True)"
   ]
  },
  {
   "cell_type": "code",
   "execution_count": 60,
   "id": "c26936c7-7bb5-4f6f-b74c-8dbf76900052",
   "metadata": {
    "tags": []
   },
   "outputs": [
    {
     "data": {
      "text/plain": [
       "[(21499, 7),\n",
       " (21500, 7),\n",
       " ('POST', 4),\n",
       " (21498, 4),\n",
       " ('16161U', 3),\n",
       " (22704, 3),\n",
       " (22138, 3),\n",
       " (22711, 2),\n",
       " (22631, 2),\n",
       " (22326, 2)]"
      ]
     },
     "execution_count": 60,
     "metadata": {},
     "output_type": "execute_result"
    }
   ],
   "source": [
    "potential_rec_items[:10]"
   ]
  },
  {
   "cell_type": "code",
   "execution_count": 61,
   "id": "9d6d1716-5dd1-4e3c-a180-cd8e15a856c2",
   "metadata": {
    "tags": []
   },
   "outputs": [
    {
     "name": "stderr",
     "output_type": "stream",
     "text": [
      "/home/kubwa/anaconda3/envs/lecture/lib/python3.11/site-packages/pandas/core/algorithms.py:522: DeprecationWarning: np.find_common_type is deprecated.  Please use `np.result_type` or `np.promote_types`.\n",
      "See https://numpy.org/devdocs/release/1.25.0-notes.html and the docs for more information.  (Deprecated NumPy 1.25)\n",
      "  common = np.find_common_type([values.dtype, comps_array.dtype], [])\n"
     ]
    },
    {
     "data": {
      "text/html": [
       "<div>\n",
       "<style scoped>\n",
       "    .dataframe tbody tr th:only-of-type {\n",
       "        vertical-align: middle;\n",
       "    }\n",
       "\n",
       "    .dataframe tbody tr th {\n",
       "        vertical-align: top;\n",
       "    }\n",
       "\n",
       "    .dataframe thead th {\n",
       "        text-align: right;\n",
       "    }\n",
       "</style>\n",
       "<table border=\"1\" class=\"dataframe\">\n",
       "  <thead>\n",
       "    <tr style=\"text-align: right;\">\n",
       "      <th></th>\n",
       "      <th>Description</th>\n",
       "    </tr>\n",
       "    <tr>\n",
       "      <th>StockCode</th>\n",
       "      <th></th>\n",
       "    </tr>\n",
       "  </thead>\n",
       "  <tbody>\n",
       "    <tr>\n",
       "      <th>21499</th>\n",
       "      <td>BLUE POLKADOT WRAP</td>\n",
       "    </tr>\n",
       "    <tr>\n",
       "      <th>21500</th>\n",
       "      <td>PINK POLKADOT WRAP</td>\n",
       "    </tr>\n",
       "    <tr>\n",
       "      <th>POST</th>\n",
       "      <td>POSTAGE</td>\n",
       "    </tr>\n",
       "    <tr>\n",
       "      <th>21498</th>\n",
       "      <td>RED RETROSPOT WRAP</td>\n",
       "    </tr>\n",
       "    <tr>\n",
       "      <th>16161U</th>\n",
       "      <td>WRAP SUKI AND FRIENDS</td>\n",
       "    </tr>\n",
       "    <tr>\n",
       "      <th>22704</th>\n",
       "      <td>WRAP RED APPLES</td>\n",
       "    </tr>\n",
       "    <tr>\n",
       "      <th>22138</th>\n",
       "      <td>BAKING SET 9 PIECE RETROSPOT</td>\n",
       "    </tr>\n",
       "    <tr>\n",
       "      <th>22711</th>\n",
       "      <td>WRAP CIRCUS PARADE</td>\n",
       "    </tr>\n",
       "    <tr>\n",
       "      <th>22631</th>\n",
       "      <td>CIRCUS PARADE LUNCH BOX</td>\n",
       "    </tr>\n",
       "    <tr>\n",
       "      <th>22326</th>\n",
       "      <td>ROUND SNACK BOXES SET OF4 WOODLAND</td>\n",
       "    </tr>\n",
       "  </tbody>\n",
       "</table>\n",
       "</div>"
      ],
      "text/plain": [
       "                                   Description\n",
       "StockCode                                     \n",
       "21499                       BLUE POLKADOT WRAP\n",
       "21500                      PINK POLKADOT WRAP \n",
       "POST                                   POSTAGE\n",
       "21498                      RED RETROSPOT WRAP \n",
       "16161U                   WRAP SUKI AND FRIENDS\n",
       "22704                         WRAP RED APPLES \n",
       "22138            BAKING SET 9 PIECE RETROSPOT \n",
       "22711                       WRAP CIRCUS PARADE\n",
       "22631                 CIRCUS PARADE LUNCH BOX \n",
       "22326      ROUND SNACK BOXES SET OF4 WOODLAND "
      ]
     },
     "execution_count": 61,
     "metadata": {},
     "output_type": "execute_result"
    }
   ],
   "source": [
    "top_10_items = [x[0] for x in potential_rec_items[:10]]\n",
    "df.loc[\n",
    "    df[\"StockCode\"].isin(top_10_items)\n",
    "][[\"StockCode\", \"Description\"]].drop_duplicates().set_index(\n",
    "    \"StockCode\"\n",
    ").loc[top_10_items]"
   ]
  },
  {
   "cell_type": "markdown",
   "id": "5f2b68d7-7b35-4212-aa5d-ce24a9e6a1dd",
   "metadata": {},
   "source": [
    "## 3. Item-Based Collaborative Filtering"
   ]
  },
  {
   "cell_type": "markdown",
   "id": "9ec391dc-50b0-4b27-8e73-3b6a270fa103",
   "metadata": {},
   "source": [
    "### CF Training"
   ]
  },
  {
   "cell_type": "code",
   "execution_count": 62,
   "id": "16dc9cf0-52fb-4dea-9631-e534320b61bb",
   "metadata": {
    "tags": []
   },
   "outputs": [],
   "source": [
    "item_item_sim_matrix = pd.DataFrame(cosine_similarity(customer_item_matrix.T))"
   ]
  },
  {
   "cell_type": "code",
   "execution_count": 63,
   "id": "4f014351-4678-4adb-bcdc-4502b7dd9c04",
   "metadata": {
    "tags": []
   },
   "outputs": [],
   "source": [
    "item_item_sim_matrix.columns = customer_item_matrix.T.index\n",
    "\n",
    "item_item_sim_matrix['StockCode'] = customer_item_matrix.T.index\n",
    "item_item_sim_matrix = item_item_sim_matrix.set_index('StockCode')"
   ]
  },
  {
   "cell_type": "code",
   "execution_count": 64,
   "id": "c3c9a60b-5a9a-4142-8a1e-fa57b83115fa",
   "metadata": {
    "tags": []
   },
   "outputs": [
    {
     "data": {
      "text/html": [
       "<div>\n",
       "<style scoped>\n",
       "    .dataframe tbody tr th:only-of-type {\n",
       "        vertical-align: middle;\n",
       "    }\n",
       "\n",
       "    .dataframe tbody tr th {\n",
       "        vertical-align: top;\n",
       "    }\n",
       "\n",
       "    .dataframe thead th {\n",
       "        text-align: right;\n",
       "    }\n",
       "</style>\n",
       "<table border=\"1\" class=\"dataframe\">\n",
       "  <thead>\n",
       "    <tr style=\"text-align: right;\">\n",
       "      <th>StockCode</th>\n",
       "      <th>10002</th>\n",
       "      <th>10080</th>\n",
       "      <th>10120</th>\n",
       "      <th>10125</th>\n",
       "      <th>10133</th>\n",
       "      <th>10135</th>\n",
       "      <th>11001</th>\n",
       "      <th>15030</th>\n",
       "      <th>15034</th>\n",
       "      <th>15036</th>\n",
       "      <th>...</th>\n",
       "      <th>90214Y</th>\n",
       "      <th>90214Z</th>\n",
       "      <th>BANK CHARGES</th>\n",
       "      <th>C2</th>\n",
       "      <th>CRUK</th>\n",
       "      <th>D</th>\n",
       "      <th>DOT</th>\n",
       "      <th>M</th>\n",
       "      <th>PADS</th>\n",
       "      <th>POST</th>\n",
       "    </tr>\n",
       "    <tr>\n",
       "      <th>StockCode</th>\n",
       "      <th></th>\n",
       "      <th></th>\n",
       "      <th></th>\n",
       "      <th></th>\n",
       "      <th></th>\n",
       "      <th></th>\n",
       "      <th></th>\n",
       "      <th></th>\n",
       "      <th></th>\n",
       "      <th></th>\n",
       "      <th></th>\n",
       "      <th></th>\n",
       "      <th></th>\n",
       "      <th></th>\n",
       "      <th></th>\n",
       "      <th></th>\n",
       "      <th></th>\n",
       "      <th></th>\n",
       "      <th></th>\n",
       "      <th></th>\n",
       "      <th></th>\n",
       "    </tr>\n",
       "  </thead>\n",
       "  <tbody>\n",
       "    <tr>\n",
       "      <th>10002</th>\n",
       "      <td>1.000000</td>\n",
       "      <td>0.000000</td>\n",
       "      <td>0.094868</td>\n",
       "      <td>0.090351</td>\n",
       "      <td>0.063246</td>\n",
       "      <td>0.098907</td>\n",
       "      <td>0.095346</td>\n",
       "      <td>0.047673</td>\n",
       "      <td>0.076139</td>\n",
       "      <td>0.091050</td>\n",
       "      <td>...</td>\n",
       "      <td>0.000000</td>\n",
       "      <td>0.0</td>\n",
       "      <td>0.000000</td>\n",
       "      <td>0.029361</td>\n",
       "      <td>0.0</td>\n",
       "      <td>0.0</td>\n",
       "      <td>0.0</td>\n",
       "      <td>0.059423</td>\n",
       "      <td>0.00</td>\n",
       "      <td>0.070057</td>\n",
       "    </tr>\n",
       "    <tr>\n",
       "      <th>10080</th>\n",
       "      <td>0.000000</td>\n",
       "      <td>1.000000</td>\n",
       "      <td>0.000000</td>\n",
       "      <td>0.032774</td>\n",
       "      <td>0.045883</td>\n",
       "      <td>0.047836</td>\n",
       "      <td>0.000000</td>\n",
       "      <td>0.000000</td>\n",
       "      <td>0.082855</td>\n",
       "      <td>0.049541</td>\n",
       "      <td>...</td>\n",
       "      <td>0.000000</td>\n",
       "      <td>0.0</td>\n",
       "      <td>0.000000</td>\n",
       "      <td>0.000000</td>\n",
       "      <td>0.0</td>\n",
       "      <td>0.0</td>\n",
       "      <td>0.0</td>\n",
       "      <td>0.017244</td>\n",
       "      <td>0.00</td>\n",
       "      <td>0.000000</td>\n",
       "    </tr>\n",
       "    <tr>\n",
       "      <th>10120</th>\n",
       "      <td>0.094868</td>\n",
       "      <td>0.000000</td>\n",
       "      <td>1.000000</td>\n",
       "      <td>0.057143</td>\n",
       "      <td>0.060000</td>\n",
       "      <td>0.041703</td>\n",
       "      <td>0.060302</td>\n",
       "      <td>0.060302</td>\n",
       "      <td>0.096309</td>\n",
       "      <td>0.028793</td>\n",
       "      <td>...</td>\n",
       "      <td>0.000000</td>\n",
       "      <td>0.0</td>\n",
       "      <td>0.000000</td>\n",
       "      <td>0.000000</td>\n",
       "      <td>0.0</td>\n",
       "      <td>0.0</td>\n",
       "      <td>0.0</td>\n",
       "      <td>0.075165</td>\n",
       "      <td>0.00</td>\n",
       "      <td>0.000000</td>\n",
       "    </tr>\n",
       "    <tr>\n",
       "      <th>10125</th>\n",
       "      <td>0.090351</td>\n",
       "      <td>0.032774</td>\n",
       "      <td>0.057143</td>\n",
       "      <td>1.000000</td>\n",
       "      <td>0.042857</td>\n",
       "      <td>0.044682</td>\n",
       "      <td>0.043073</td>\n",
       "      <td>0.000000</td>\n",
       "      <td>0.051594</td>\n",
       "      <td>0.030849</td>\n",
       "      <td>...</td>\n",
       "      <td>0.000000</td>\n",
       "      <td>0.0</td>\n",
       "      <td>0.000000</td>\n",
       "      <td>0.000000</td>\n",
       "      <td>0.0</td>\n",
       "      <td>0.0</td>\n",
       "      <td>0.0</td>\n",
       "      <td>0.075165</td>\n",
       "      <td>0.00</td>\n",
       "      <td>0.071209</td>\n",
       "    </tr>\n",
       "    <tr>\n",
       "      <th>10133</th>\n",
       "      <td>0.063246</td>\n",
       "      <td>0.045883</td>\n",
       "      <td>0.060000</td>\n",
       "      <td>0.042857</td>\n",
       "      <td>1.000000</td>\n",
       "      <td>0.281494</td>\n",
       "      <td>0.045227</td>\n",
       "      <td>0.060302</td>\n",
       "      <td>0.072232</td>\n",
       "      <td>0.057585</td>\n",
       "      <td>...</td>\n",
       "      <td>0.000000</td>\n",
       "      <td>0.0</td>\n",
       "      <td>0.000000</td>\n",
       "      <td>0.037139</td>\n",
       "      <td>0.0</td>\n",
       "      <td>0.0</td>\n",
       "      <td>0.0</td>\n",
       "      <td>0.067648</td>\n",
       "      <td>0.05</td>\n",
       "      <td>0.016615</td>\n",
       "    </tr>\n",
       "    <tr>\n",
       "      <th>...</th>\n",
       "      <td>...</td>\n",
       "      <td>...</td>\n",
       "      <td>...</td>\n",
       "      <td>...</td>\n",
       "      <td>...</td>\n",
       "      <td>...</td>\n",
       "      <td>...</td>\n",
       "      <td>...</td>\n",
       "      <td>...</td>\n",
       "      <td>...</td>\n",
       "      <td>...</td>\n",
       "      <td>...</td>\n",
       "      <td>...</td>\n",
       "      <td>...</td>\n",
       "      <td>...</td>\n",
       "      <td>...</td>\n",
       "      <td>...</td>\n",
       "      <td>...</td>\n",
       "      <td>...</td>\n",
       "      <td>...</td>\n",
       "      <td>...</td>\n",
       "    </tr>\n",
       "    <tr>\n",
       "      <th>D</th>\n",
       "      <td>0.000000</td>\n",
       "      <td>0.000000</td>\n",
       "      <td>0.000000</td>\n",
       "      <td>0.000000</td>\n",
       "      <td>0.000000</td>\n",
       "      <td>0.000000</td>\n",
       "      <td>0.000000</td>\n",
       "      <td>0.000000</td>\n",
       "      <td>0.000000</td>\n",
       "      <td>0.000000</td>\n",
       "      <td>...</td>\n",
       "      <td>0.000000</td>\n",
       "      <td>0.0</td>\n",
       "      <td>0.000000</td>\n",
       "      <td>0.000000</td>\n",
       "      <td>0.0</td>\n",
       "      <td>0.0</td>\n",
       "      <td>0.0</td>\n",
       "      <td>0.000000</td>\n",
       "      <td>0.00</td>\n",
       "      <td>0.000000</td>\n",
       "    </tr>\n",
       "    <tr>\n",
       "      <th>DOT</th>\n",
       "      <td>0.000000</td>\n",
       "      <td>0.000000</td>\n",
       "      <td>0.000000</td>\n",
       "      <td>0.000000</td>\n",
       "      <td>0.000000</td>\n",
       "      <td>0.104257</td>\n",
       "      <td>0.150756</td>\n",
       "      <td>0.000000</td>\n",
       "      <td>0.000000</td>\n",
       "      <td>0.000000</td>\n",
       "      <td>...</td>\n",
       "      <td>0.000000</td>\n",
       "      <td>0.0</td>\n",
       "      <td>0.000000</td>\n",
       "      <td>0.000000</td>\n",
       "      <td>0.0</td>\n",
       "      <td>0.0</td>\n",
       "      <td>1.0</td>\n",
       "      <td>0.000000</td>\n",
       "      <td>0.00</td>\n",
       "      <td>0.000000</td>\n",
       "    </tr>\n",
       "    <tr>\n",
       "      <th>M</th>\n",
       "      <td>0.059423</td>\n",
       "      <td>0.017244</td>\n",
       "      <td>0.075165</td>\n",
       "      <td>0.075165</td>\n",
       "      <td>0.067648</td>\n",
       "      <td>0.054855</td>\n",
       "      <td>0.101983</td>\n",
       "      <td>0.067989</td>\n",
       "      <td>0.063341</td>\n",
       "      <td>0.075747</td>\n",
       "      <td>...</td>\n",
       "      <td>0.000000</td>\n",
       "      <td>0.0</td>\n",
       "      <td>0.071307</td>\n",
       "      <td>0.000000</td>\n",
       "      <td>0.0</td>\n",
       "      <td>0.0</td>\n",
       "      <td>0.0</td>\n",
       "      <td>1.000000</td>\n",
       "      <td>0.00</td>\n",
       "      <td>0.045793</td>\n",
       "    </tr>\n",
       "    <tr>\n",
       "      <th>PADS</th>\n",
       "      <td>0.000000</td>\n",
       "      <td>0.000000</td>\n",
       "      <td>0.000000</td>\n",
       "      <td>0.000000</td>\n",
       "      <td>0.050000</td>\n",
       "      <td>0.000000</td>\n",
       "      <td>0.000000</td>\n",
       "      <td>0.000000</td>\n",
       "      <td>0.000000</td>\n",
       "      <td>0.000000</td>\n",
       "      <td>...</td>\n",
       "      <td>0.000000</td>\n",
       "      <td>0.0</td>\n",
       "      <td>0.000000</td>\n",
       "      <td>0.000000</td>\n",
       "      <td>0.0</td>\n",
       "      <td>0.0</td>\n",
       "      <td>0.0</td>\n",
       "      <td>0.000000</td>\n",
       "      <td>1.00</td>\n",
       "      <td>0.000000</td>\n",
       "    </tr>\n",
       "    <tr>\n",
       "      <th>POST</th>\n",
       "      <td>0.070057</td>\n",
       "      <td>0.000000</td>\n",
       "      <td>0.000000</td>\n",
       "      <td>0.071209</td>\n",
       "      <td>0.016615</td>\n",
       "      <td>0.028871</td>\n",
       "      <td>0.050098</td>\n",
       "      <td>0.000000</td>\n",
       "      <td>0.020003</td>\n",
       "      <td>0.043854</td>\n",
       "      <td>...</td>\n",
       "      <td>0.031976</td>\n",
       "      <td>0.0</td>\n",
       "      <td>0.017514</td>\n",
       "      <td>0.020569</td>\n",
       "      <td>0.0</td>\n",
       "      <td>0.0</td>\n",
       "      <td>0.0</td>\n",
       "      <td>0.045793</td>\n",
       "      <td>0.00</td>\n",
       "      <td>1.000000</td>\n",
       "    </tr>\n",
       "  </tbody>\n",
       "</table>\n",
       "<p>3684 rows × 3684 columns</p>\n",
       "</div>"
      ],
      "text/plain": [
       "StockCode     10002     10080     10120     10125     10133     10135  \\\n",
       "StockCode                                                               \n",
       "10002      1.000000  0.000000  0.094868  0.090351  0.063246  0.098907   \n",
       "10080      0.000000  1.000000  0.000000  0.032774  0.045883  0.047836   \n",
       "10120      0.094868  0.000000  1.000000  0.057143  0.060000  0.041703   \n",
       "10125      0.090351  0.032774  0.057143  1.000000  0.042857  0.044682   \n",
       "10133      0.063246  0.045883  0.060000  0.042857  1.000000  0.281494   \n",
       "...             ...       ...       ...       ...       ...       ...   \n",
       "D          0.000000  0.000000  0.000000  0.000000  0.000000  0.000000   \n",
       "DOT        0.000000  0.000000  0.000000  0.000000  0.000000  0.104257   \n",
       "M          0.059423  0.017244  0.075165  0.075165  0.067648  0.054855   \n",
       "PADS       0.000000  0.000000  0.000000  0.000000  0.050000  0.000000   \n",
       "POST       0.070057  0.000000  0.000000  0.071209  0.016615  0.028871   \n",
       "\n",
       "StockCode     11001     15030     15034     15036  ...    90214Y  90214Z  \\\n",
       "StockCode                                          ...                     \n",
       "10002      0.095346  0.047673  0.076139  0.091050  ...  0.000000     0.0   \n",
       "10080      0.000000  0.000000  0.082855  0.049541  ...  0.000000     0.0   \n",
       "10120      0.060302  0.060302  0.096309  0.028793  ...  0.000000     0.0   \n",
       "10125      0.043073  0.000000  0.051594  0.030849  ...  0.000000     0.0   \n",
       "10133      0.045227  0.060302  0.072232  0.057585  ...  0.000000     0.0   \n",
       "...             ...       ...       ...       ...  ...       ...     ...   \n",
       "D          0.000000  0.000000  0.000000  0.000000  ...  0.000000     0.0   \n",
       "DOT        0.150756  0.000000  0.000000  0.000000  ...  0.000000     0.0   \n",
       "M          0.101983  0.067989  0.063341  0.075747  ...  0.000000     0.0   \n",
       "PADS       0.000000  0.000000  0.000000  0.000000  ...  0.000000     0.0   \n",
       "POST       0.050098  0.000000  0.020003  0.043854  ...  0.031976     0.0   \n",
       "\n",
       "StockCode  BANK CHARGES        C2  CRUK    D  DOT         M  PADS      POST  \n",
       "StockCode                                                                    \n",
       "10002          0.000000  0.029361   0.0  0.0  0.0  0.059423  0.00  0.070057  \n",
       "10080          0.000000  0.000000   0.0  0.0  0.0  0.017244  0.00  0.000000  \n",
       "10120          0.000000  0.000000   0.0  0.0  0.0  0.075165  0.00  0.000000  \n",
       "10125          0.000000  0.000000   0.0  0.0  0.0  0.075165  0.00  0.071209  \n",
       "10133          0.000000  0.037139   0.0  0.0  0.0  0.067648  0.05  0.016615  \n",
       "...                 ...       ...   ...  ...  ...       ...   ...       ...  \n",
       "D              0.000000  0.000000   0.0  0.0  0.0  0.000000  0.00  0.000000  \n",
       "DOT            0.000000  0.000000   0.0  0.0  1.0  0.000000  0.00  0.000000  \n",
       "M              0.071307  0.000000   0.0  0.0  0.0  1.000000  0.00  0.045793  \n",
       "PADS           0.000000  0.000000   0.0  0.0  0.0  0.000000  1.00  0.000000  \n",
       "POST           0.017514  0.020569   0.0  0.0  0.0  0.045793  0.00  1.000000  \n",
       "\n",
       "[3684 rows x 3684 columns]"
      ]
     },
     "execution_count": 64,
     "metadata": {},
     "output_type": "execute_result"
    }
   ],
   "source": [
    "item_item_sim_matrix"
   ]
  },
  {
   "cell_type": "markdown",
   "id": "a0b44082-eb24-43f3-ab72-8cc03b9bf6a2",
   "metadata": {},
   "source": [
    "### Making Recommendations"
   ]
  },
  {
   "cell_type": "markdown",
   "id": "dead4d00-c1d0-4ccc-8b9c-afeeec9a412e",
   "metadata": {},
   "source": [
    "#### Recommending by Most Similar Items"
   ]
  },
  {
   "cell_type": "code",
   "execution_count": 76,
   "id": "e227e35b-af98-4813-a035-88f9638be6ea",
   "metadata": {
    "tags": []
   },
   "outputs": [
    {
     "data": {
      "text/html": [
       "<div>\n",
       "<style scoped>\n",
       "    .dataframe tbody tr th:only-of-type {\n",
       "        vertical-align: middle;\n",
       "    }\n",
       "\n",
       "    .dataframe tbody tr th {\n",
       "        vertical-align: top;\n",
       "    }\n",
       "\n",
       "    .dataframe thead th {\n",
       "        text-align: right;\n",
       "    }\n",
       "</style>\n",
       "<table border=\"1\" class=\"dataframe\">\n",
       "  <thead>\n",
       "    <tr style=\"text-align: right;\">\n",
       "      <th></th>\n",
       "      <th>InvoiceNo</th>\n",
       "      <th>StockCode</th>\n",
       "      <th>Description</th>\n",
       "      <th>Quantity</th>\n",
       "      <th>InvoiceDate</th>\n",
       "      <th>UnitPrice</th>\n",
       "      <th>CustomerID</th>\n",
       "      <th>Country</th>\n",
       "    </tr>\n",
       "  </thead>\n",
       "  <tbody>\n",
       "    <tr>\n",
       "      <th>0</th>\n",
       "      <td>536365</td>\n",
       "      <td>85123A</td>\n",
       "      <td>WHITE HANGING HEART T-LIGHT HOLDER</td>\n",
       "      <td>6</td>\n",
       "      <td>2010-12-01 08:26:00</td>\n",
       "      <td>2.55</td>\n",
       "      <td>17850.0</td>\n",
       "      <td>United Kingdom</td>\n",
       "    </tr>\n",
       "    <tr>\n",
       "      <th>1</th>\n",
       "      <td>536365</td>\n",
       "      <td>71053</td>\n",
       "      <td>WHITE METAL LANTERN</td>\n",
       "      <td>6</td>\n",
       "      <td>2010-12-01 08:26:00</td>\n",
       "      <td>3.39</td>\n",
       "      <td>17850.0</td>\n",
       "      <td>United Kingdom</td>\n",
       "    </tr>\n",
       "    <tr>\n",
       "      <th>2</th>\n",
       "      <td>536365</td>\n",
       "      <td>84406B</td>\n",
       "      <td>CREAM CUPID HEARTS COAT HANGER</td>\n",
       "      <td>8</td>\n",
       "      <td>2010-12-01 08:26:00</td>\n",
       "      <td>2.75</td>\n",
       "      <td>17850.0</td>\n",
       "      <td>United Kingdom</td>\n",
       "    </tr>\n",
       "    <tr>\n",
       "      <th>3</th>\n",
       "      <td>536365</td>\n",
       "      <td>84029G</td>\n",
       "      <td>KNITTED UNION FLAG HOT WATER BOTTLE</td>\n",
       "      <td>6</td>\n",
       "      <td>2010-12-01 08:26:00</td>\n",
       "      <td>3.39</td>\n",
       "      <td>17850.0</td>\n",
       "      <td>United Kingdom</td>\n",
       "    </tr>\n",
       "    <tr>\n",
       "      <th>4</th>\n",
       "      <td>536365</td>\n",
       "      <td>84029E</td>\n",
       "      <td>RED WOOLLY HOTTIE WHITE HEART.</td>\n",
       "      <td>6</td>\n",
       "      <td>2010-12-01 08:26:00</td>\n",
       "      <td>3.39</td>\n",
       "      <td>17850.0</td>\n",
       "      <td>United Kingdom</td>\n",
       "    </tr>\n",
       "    <tr>\n",
       "      <th>...</th>\n",
       "      <td>...</td>\n",
       "      <td>...</td>\n",
       "      <td>...</td>\n",
       "      <td>...</td>\n",
       "      <td>...</td>\n",
       "      <td>...</td>\n",
       "      <td>...</td>\n",
       "      <td>...</td>\n",
       "    </tr>\n",
       "    <tr>\n",
       "      <th>541904</th>\n",
       "      <td>581587</td>\n",
       "      <td>22613</td>\n",
       "      <td>PACK OF 20 SPACEBOY NAPKINS</td>\n",
       "      <td>12</td>\n",
       "      <td>2011-12-09 12:50:00</td>\n",
       "      <td>0.85</td>\n",
       "      <td>12680.0</td>\n",
       "      <td>France</td>\n",
       "    </tr>\n",
       "    <tr>\n",
       "      <th>541905</th>\n",
       "      <td>581587</td>\n",
       "      <td>22899</td>\n",
       "      <td>CHILDREN'S APRON DOLLY GIRL</td>\n",
       "      <td>6</td>\n",
       "      <td>2011-12-09 12:50:00</td>\n",
       "      <td>2.10</td>\n",
       "      <td>12680.0</td>\n",
       "      <td>France</td>\n",
       "    </tr>\n",
       "    <tr>\n",
       "      <th>541906</th>\n",
       "      <td>581587</td>\n",
       "      <td>23254</td>\n",
       "      <td>CHILDRENS CUTLERY DOLLY GIRL</td>\n",
       "      <td>4</td>\n",
       "      <td>2011-12-09 12:50:00</td>\n",
       "      <td>4.15</td>\n",
       "      <td>12680.0</td>\n",
       "      <td>France</td>\n",
       "    </tr>\n",
       "    <tr>\n",
       "      <th>541907</th>\n",
       "      <td>581587</td>\n",
       "      <td>23255</td>\n",
       "      <td>CHILDRENS CUTLERY CIRCUS PARADE</td>\n",
       "      <td>4</td>\n",
       "      <td>2011-12-09 12:50:00</td>\n",
       "      <td>4.15</td>\n",
       "      <td>12680.0</td>\n",
       "      <td>France</td>\n",
       "    </tr>\n",
       "    <tr>\n",
       "      <th>541908</th>\n",
       "      <td>581587</td>\n",
       "      <td>22138</td>\n",
       "      <td>BAKING SET 9 PIECE RETROSPOT</td>\n",
       "      <td>3</td>\n",
       "      <td>2011-12-09 12:50:00</td>\n",
       "      <td>4.95</td>\n",
       "      <td>12680.0</td>\n",
       "      <td>France</td>\n",
       "    </tr>\n",
       "  </tbody>\n",
       "</table>\n",
       "<p>406829 rows × 8 columns</p>\n",
       "</div>"
      ],
      "text/plain": [
       "       InvoiceNo StockCode                          Description  Quantity  \\\n",
       "0         536365    85123A   WHITE HANGING HEART T-LIGHT HOLDER         6   \n",
       "1         536365     71053                  WHITE METAL LANTERN         6   \n",
       "2         536365    84406B       CREAM CUPID HEARTS COAT HANGER         8   \n",
       "3         536365    84029G  KNITTED UNION FLAG HOT WATER BOTTLE         6   \n",
       "4         536365    84029E       RED WOOLLY HOTTIE WHITE HEART.         6   \n",
       "...          ...       ...                                  ...       ...   \n",
       "541904    581587     22613          PACK OF 20 SPACEBOY NAPKINS        12   \n",
       "541905    581587     22899         CHILDREN'S APRON DOLLY GIRL          6   \n",
       "541906    581587     23254        CHILDRENS CUTLERY DOLLY GIRL          4   \n",
       "541907    581587     23255      CHILDRENS CUTLERY CIRCUS PARADE         4   \n",
       "541908    581587     22138        BAKING SET 9 PIECE RETROSPOT          3   \n",
       "\n",
       "               InvoiceDate  UnitPrice  CustomerID         Country  \n",
       "0      2010-12-01 08:26:00       2.55     17850.0  United Kingdom  \n",
       "1      2010-12-01 08:26:00       3.39     17850.0  United Kingdom  \n",
       "2      2010-12-01 08:26:00       2.75     17850.0  United Kingdom  \n",
       "3      2010-12-01 08:26:00       3.39     17850.0  United Kingdom  \n",
       "4      2010-12-01 08:26:00       3.39     17850.0  United Kingdom  \n",
       "...                    ...        ...         ...             ...  \n",
       "541904 2011-12-09 12:50:00       0.85     12680.0          France  \n",
       "541905 2011-12-09 12:50:00       2.10     12680.0          France  \n",
       "541906 2011-12-09 12:50:00       4.15     12680.0          France  \n",
       "541907 2011-12-09 12:50:00       4.15     12680.0          France  \n",
       "541908 2011-12-09 12:50:00       4.95     12680.0          France  \n",
       "\n",
       "[406829 rows x 8 columns]"
      ]
     },
     "execution_count": 76,
     "metadata": {},
     "output_type": "execute_result"
    }
   ],
   "source": [
    "df"
   ]
  },
  {
   "cell_type": "code",
   "execution_count": 77,
   "id": "9059c1ee-de7a-4887-b38a-a57f5cab9e4c",
   "metadata": {
    "tags": []
   },
   "outputs": [
    {
     "data": {
      "text/html": [
       "<div>\n",
       "<style scoped>\n",
       "    .dataframe tbody tr th:only-of-type {\n",
       "        vertical-align: middle;\n",
       "    }\n",
       "\n",
       "    .dataframe tbody tr th {\n",
       "        vertical-align: top;\n",
       "    }\n",
       "\n",
       "    .dataframe thead th {\n",
       "        text-align: right;\n",
       "    }\n",
       "</style>\n",
       "<table border=\"1\" class=\"dataframe\">\n",
       "  <thead>\n",
       "    <tr style=\"text-align: right;\">\n",
       "      <th></th>\n",
       "      <th>StockCode</th>\n",
       "      <th>Description</th>\n",
       "    </tr>\n",
       "  </thead>\n",
       "  <tbody>\n",
       "    <tr>\n",
       "      <th>19108</th>\n",
       "      <td>22138</td>\n",
       "      <td>BAKING SET 9 PIECE RETROSPOT</td>\n",
       "    </tr>\n",
       "  </tbody>\n",
       "</table>\n",
       "</div>"
      ],
      "text/plain": [
       "      StockCode                    Description\n",
       "19108     22138  BAKING SET 9 PIECE RETROSPOT "
      ]
     },
     "execution_count": 77,
     "metadata": {},
     "output_type": "execute_result"
    }
   ],
   "source": [
    "df.loc[\n",
    "    df['StockCode'] == 22138, \n",
    "    ['StockCode', 'Description']\n",
    "].drop_duplicates()"
   ]
  },
  {
   "cell_type": "code",
   "execution_count": 79,
   "id": "aa805156-bc0b-48dc-b81f-89076783b299",
   "metadata": {
    "tags": []
   },
   "outputs": [
    {
     "data": {
      "text/plain": [
       "StockCode\n",
       "22138    1.000000\n",
       "22617    0.588564\n",
       "22139    0.401167\n",
       "22621    0.280712\n",
       "21212    0.275546\n",
       "22720    0.256271\n",
       "22367    0.248812\n",
       "22619    0.247993\n",
       "23298    0.245219\n",
       "22554    0.242206\n",
       "Name: 22138, dtype: float64"
      ]
     },
     "execution_count": 79,
     "metadata": {},
     "output_type": "execute_result"
    }
   ],
   "source": [
    "most_similar_items = item_item_sim_matrix.loc[\n",
    "    22138\n",
    "].sort_values(ascending=False).head(10)\n",
    "most_similar_items"
   ]
  },
  {
   "cell_type": "code",
   "execution_count": 80,
   "id": "7fc1cbe6-585b-4c2f-bd14-b46e2f64266a",
   "metadata": {
    "tags": []
   },
   "outputs": [
    {
     "name": "stderr",
     "output_type": "stream",
     "text": [
      "/home/kubwa/anaconda3/envs/lecture/lib/python3.11/site-packages/pandas/core/algorithms.py:522: DeprecationWarning: np.find_common_type is deprecated.  Please use `np.result_type` or `np.promote_types`.\n",
      "See https://numpy.org/devdocs/release/1.25.0-notes.html and the docs for more information.  (Deprecated NumPy 1.25)\n",
      "  common = np.find_common_type([values.dtype, comps_array.dtype], [])\n"
     ]
    },
    {
     "data": {
      "text/html": [
       "<div>\n",
       "<style scoped>\n",
       "    .dataframe tbody tr th:only-of-type {\n",
       "        vertical-align: middle;\n",
       "    }\n",
       "\n",
       "    .dataframe tbody tr th {\n",
       "        vertical-align: top;\n",
       "    }\n",
       "\n",
       "    .dataframe thead th {\n",
       "        text-align: right;\n",
       "    }\n",
       "</style>\n",
       "<table border=\"1\" class=\"dataframe\">\n",
       "  <thead>\n",
       "    <tr style=\"text-align: right;\">\n",
       "      <th></th>\n",
       "      <th>Description</th>\n",
       "    </tr>\n",
       "    <tr>\n",
       "      <th>StockCode</th>\n",
       "      <th></th>\n",
       "    </tr>\n",
       "  </thead>\n",
       "  <tbody>\n",
       "    <tr>\n",
       "      <th>22138</th>\n",
       "      <td>BAKING SET 9 PIECE RETROSPOT</td>\n",
       "    </tr>\n",
       "    <tr>\n",
       "      <th>22617</th>\n",
       "      <td>BAKING SET SPACEBOY DESIGN</td>\n",
       "    </tr>\n",
       "    <tr>\n",
       "      <th>22139</th>\n",
       "      <td>RETROSPOT TEA SET CERAMIC 11 PC</td>\n",
       "    </tr>\n",
       "    <tr>\n",
       "      <th>22621</th>\n",
       "      <td>TRADITIONAL KNITTING NANCY</td>\n",
       "    </tr>\n",
       "    <tr>\n",
       "      <th>21212</th>\n",
       "      <td>PACK OF 72 RETROSPOT CAKE CASES</td>\n",
       "    </tr>\n",
       "    <tr>\n",
       "      <th>22720</th>\n",
       "      <td>SET OF 3 CAKE TINS PANTRY DESIGN</td>\n",
       "    </tr>\n",
       "    <tr>\n",
       "      <th>22367</th>\n",
       "      <td>CHILDRENS APRON SPACEBOY DESIGN</td>\n",
       "    </tr>\n",
       "    <tr>\n",
       "      <th>22619</th>\n",
       "      <td>SET OF 6 SOLDIER SKITTLES</td>\n",
       "    </tr>\n",
       "    <tr>\n",
       "      <th>23298</th>\n",
       "      <td>SPOTTY BUNTING</td>\n",
       "    </tr>\n",
       "    <tr>\n",
       "      <th>23298</th>\n",
       "      <td>BUNTING , SPOTTY</td>\n",
       "    </tr>\n",
       "    <tr>\n",
       "      <th>22554</th>\n",
       "      <td>PLASTERS IN TIN WOODLAND ANIMALS</td>\n",
       "    </tr>\n",
       "  </tbody>\n",
       "</table>\n",
       "</div>"
      ],
      "text/plain": [
       "                                 Description\n",
       "StockCode                                   \n",
       "22138          BAKING SET 9 PIECE RETROSPOT \n",
       "22617             BAKING SET SPACEBOY DESIGN\n",
       "22139       RETROSPOT TEA SET CERAMIC 11 PC \n",
       "22621             TRADITIONAL KNITTING NANCY\n",
       "21212        PACK OF 72 RETROSPOT CAKE CASES\n",
       "22720      SET OF 3 CAKE TINS PANTRY DESIGN \n",
       "22367        CHILDRENS APRON SPACEBOY DESIGN\n",
       "22619              SET OF 6 SOLDIER SKITTLES\n",
       "23298                         SPOTTY BUNTING\n",
       "23298                      BUNTING , SPOTTY \n",
       "22554       PLASTERS IN TIN WOODLAND ANIMALS"
      ]
     },
     "execution_count": 80,
     "metadata": {},
     "output_type": "execute_result"
    }
   ],
   "source": [
    "rec_items = [\n",
    "    x for x in most_similar_items.index if x != \"22138\"\n",
    "]\n",
    "\n",
    "df.loc[\n",
    "    df['StockCode'].isin(rec_items), \n",
    "    ['StockCode', 'Description']\n",
    "].drop_duplicates().set_index('StockCode').loc[rec_items]"
   ]
  },
  {
   "cell_type": "markdown",
   "id": "5d630762-a6be-4ba1-b5bd-a67b3c9473eb",
   "metadata": {},
   "source": [
    "#### Recommending using Multiple Item Purchase History"
   ]
  },
  {
   "cell_type": "code",
   "execution_count": 82,
   "id": "4febc76c-06bc-43b6-a6ec-2d692840f192",
   "metadata": {
    "tags": []
   },
   "outputs": [
    {
     "name": "stderr",
     "output_type": "stream",
     "text": [
      "/home/kubwa/anaconda3/envs/lecture/lib/python3.11/site-packages/pandas/core/algorithms.py:522: DeprecationWarning: np.find_common_type is deprecated.  Please use `np.result_type` or `np.promote_types`.\n",
      "See https://numpy.org/devdocs/release/1.25.0-notes.html and the docs for more information.  (Deprecated NumPy 1.25)\n",
      "  common = np.find_common_type([values.dtype, comps_array.dtype], [])\n"
     ]
    },
    {
     "data": {
      "text/html": [
       "<div>\n",
       "<style scoped>\n",
       "    .dataframe tbody tr th:only-of-type {\n",
       "        vertical-align: middle;\n",
       "    }\n",
       "\n",
       "    .dataframe tbody tr th {\n",
       "        vertical-align: top;\n",
       "    }\n",
       "\n",
       "    .dataframe thead th {\n",
       "        text-align: right;\n",
       "    }\n",
       "</style>\n",
       "<table border=\"1\" class=\"dataframe\">\n",
       "  <thead>\n",
       "    <tr style=\"text-align: right;\">\n",
       "      <th></th>\n",
       "      <th>StockCode</th>\n",
       "      <th>Description</th>\n",
       "    </tr>\n",
       "  </thead>\n",
       "  <tbody>\n",
       "    <tr>\n",
       "      <th>28715</th>\n",
       "      <td>22720</td>\n",
       "      <td>SET OF 3 CAKE TINS PANTRY DESIGN</td>\n",
       "    </tr>\n",
       "    <tr>\n",
       "      <th>61619</th>\n",
       "      <td>23166</td>\n",
       "      <td>MEDIUM CERAMIC TOP STORAGE JAR</td>\n",
       "    </tr>\n",
       "    <tr>\n",
       "      <th>217655</th>\n",
       "      <td>23243</td>\n",
       "      <td>SET OF TEA COFFEE SUGAR TINS PANTRY</td>\n",
       "    </tr>\n",
       "  </tbody>\n",
       "</table>\n",
       "</div>"
      ],
      "text/plain": [
       "       StockCode                          Description\n",
       "28715      22720    SET OF 3 CAKE TINS PANTRY DESIGN \n",
       "61619      23166       MEDIUM CERAMIC TOP STORAGE JAR\n",
       "217655     23243  SET OF TEA COFFEE SUGAR TINS PANTRY"
      ]
     },
     "execution_count": 82,
     "metadata": {},
     "output_type": "execute_result"
    }
   ],
   "source": [
    "df.loc[\n",
    "    df['StockCode'].isin([23166, 22720, 23243]), \n",
    "    ['StockCode', 'Description']\n",
    "].drop_duplicates()"
   ]
  },
  {
   "cell_type": "code",
   "execution_count": 83,
   "id": "e0f0b36b-3fdb-4f87-b154-dd3b1daf74cb",
   "metadata": {
    "tags": []
   },
   "outputs": [
    {
     "name": "stderr",
     "output_type": "stream",
     "text": [
      "/home/kubwa/anaconda3/envs/lecture/lib/python3.11/site-packages/pandas/core/dtypes/cast.py:1641: DeprecationWarning: np.find_common_type is deprecated.  Please use `np.result_type` or `np.promote_types`.\n",
      "See https://numpy.org/devdocs/release/1.25.0-notes.html and the docs for more information.  (Deprecated NumPy 1.25)\n",
      "  return np.find_common_type(types, [])\n",
      "/home/kubwa/anaconda3/envs/lecture/lib/python3.11/site-packages/pandas/core/dtypes/cast.py:1641: DeprecationWarning: np.find_common_type is deprecated.  Please use `np.result_type` or `np.promote_types`.\n",
      "See https://numpy.org/devdocs/release/1.25.0-notes.html and the docs for more information.  (Deprecated NumPy 1.25)\n",
      "  return np.find_common_type(types, [])\n"
     ]
    },
    {
     "data": {
      "text/plain": [
       "StockCode\n",
       "23243    0.593115\n",
       "22720    0.592794\n",
       "23166    0.499390\n",
       "22722    0.417434\n",
       "23165    0.403306\n",
       "22666    0.369518\n",
       "23167    0.364973\n",
       "23245    0.322518\n",
       "22993    0.320600\n",
       "22961    0.305328\n",
       "dtype: float64"
      ]
     },
     "execution_count": 83,
     "metadata": {},
     "output_type": "execute_result"
    }
   ],
   "source": [
    "item_item_sim_matrix[[\n",
    "    23166, 22720, 23243\n",
    "]].mean(axis=1).sort_values(\n",
    "    ascending=False\n",
    ").head(10)"
   ]
  },
  {
   "cell_type": "code",
   "execution_count": 84,
   "id": "4fc03b6a-9800-4d66-a514-62968aae1e32",
   "metadata": {
    "tags": []
   },
   "outputs": [
    {
     "name": "stderr",
     "output_type": "stream",
     "text": [
      "/home/kubwa/anaconda3/envs/lecture/lib/python3.11/site-packages/pandas/core/dtypes/cast.py:1641: DeprecationWarning: np.find_common_type is deprecated.  Please use `np.result_type` or `np.promote_types`.\n",
      "See https://numpy.org/devdocs/release/1.25.0-notes.html and the docs for more information.  (Deprecated NumPy 1.25)\n",
      "  return np.find_common_type(types, [])\n",
      "/home/kubwa/anaconda3/envs/lecture/lib/python3.11/site-packages/pandas/core/dtypes/cast.py:1641: DeprecationWarning: np.find_common_type is deprecated.  Please use `np.result_type` or `np.promote_types`.\n",
      "See https://numpy.org/devdocs/release/1.25.0-notes.html and the docs for more information.  (Deprecated NumPy 1.25)\n",
      "  return np.find_common_type(types, [])\n",
      "/home/kubwa/anaconda3/envs/lecture/lib/python3.11/site-packages/pandas/core/algorithms.py:522: DeprecationWarning: np.find_common_type is deprecated.  Please use `np.result_type` or `np.promote_types`.\n",
      "See https://numpy.org/devdocs/release/1.25.0-notes.html and the docs for more information.  (Deprecated NumPy 1.25)\n",
      "  common = np.find_common_type([values.dtype, comps_array.dtype], [])\n"
     ]
    },
    {
     "data": {
      "text/html": [
       "<div>\n",
       "<style scoped>\n",
       "    .dataframe tbody tr th:only-of-type {\n",
       "        vertical-align: middle;\n",
       "    }\n",
       "\n",
       "    .dataframe tbody tr th {\n",
       "        vertical-align: top;\n",
       "    }\n",
       "\n",
       "    .dataframe thead th {\n",
       "        text-align: right;\n",
       "    }\n",
       "</style>\n",
       "<table border=\"1\" class=\"dataframe\">\n",
       "  <thead>\n",
       "    <tr style=\"text-align: right;\">\n",
       "      <th></th>\n",
       "      <th>Description</th>\n",
       "    </tr>\n",
       "    <tr>\n",
       "      <th>StockCode</th>\n",
       "      <th></th>\n",
       "    </tr>\n",
       "  </thead>\n",
       "  <tbody>\n",
       "    <tr>\n",
       "      <th>22722</th>\n",
       "      <td>SET OF 6 SPICE TINS PANTRY DESIGN</td>\n",
       "    </tr>\n",
       "    <tr>\n",
       "      <th>23165</th>\n",
       "      <td>LARGE CERAMIC TOP STORAGE JAR</td>\n",
       "    </tr>\n",
       "    <tr>\n",
       "      <th>22666</th>\n",
       "      <td>RECIPE BOX PANTRY YELLOW DESIGN</td>\n",
       "    </tr>\n",
       "    <tr>\n",
       "      <th>23167</th>\n",
       "      <td>SMALL CERAMIC TOP STORAGE JAR</td>\n",
       "    </tr>\n",
       "    <tr>\n",
       "      <th>23245</th>\n",
       "      <td>SET OF 3 REGENCY CAKE TINS</td>\n",
       "    </tr>\n",
       "    <tr>\n",
       "      <th>22993</th>\n",
       "      <td>SET OF 4 PANTRY JELLY MOULDS</td>\n",
       "    </tr>\n",
       "    <tr>\n",
       "      <th>22961</th>\n",
       "      <td>JAM MAKING SET PRINTED</td>\n",
       "    </tr>\n",
       "    <tr>\n",
       "      <th>22960</th>\n",
       "      <td>JAM MAKING SET WITH JARS</td>\n",
       "    </tr>\n",
       "    <tr>\n",
       "      <th>23198</th>\n",
       "      <td>PANTRY MAGNETIC  SHOPPING LIST</td>\n",
       "    </tr>\n",
       "    <tr>\n",
       "      <th>23307</th>\n",
       "      <td>SET OF 60 PANTRY DESIGN CAKE CASES</td>\n",
       "    </tr>\n",
       "  </tbody>\n",
       "</table>\n",
       "</div>"
      ],
      "text/plain": [
       "                                   Description\n",
       "StockCode                                     \n",
       "22722        SET OF 6 SPICE TINS PANTRY DESIGN\n",
       "23165            LARGE CERAMIC TOP STORAGE JAR\n",
       "22666          RECIPE BOX PANTRY YELLOW DESIGN\n",
       "23167           SMALL CERAMIC TOP STORAGE JAR \n",
       "23245               SET OF 3 REGENCY CAKE TINS\n",
       "22993             SET OF 4 PANTRY JELLY MOULDS\n",
       "22961                   JAM MAKING SET PRINTED\n",
       "22960                 JAM MAKING SET WITH JARS\n",
       "23198           PANTRY MAGNETIC  SHOPPING LIST\n",
       "23307      SET OF 60 PANTRY DESIGN CAKE CASES "
      ]
     },
     "execution_count": 84,
     "metadata": {},
     "output_type": "execute_result"
    }
   ],
   "source": [
    "rec_items = [\n",
    "    x for x in item_item_sim_matrix[[\n",
    "        23166, 22720, 23243\n",
    "    ]].mean(axis=1).sort_values(ascending=False).head(13).index \n",
    "    if x not in [23166, 22720, 23243]\n",
    "]\n",
    "\n",
    "df.loc[\n",
    "    df['StockCode'].isin(rec_items), \n",
    "    ['StockCode', 'Description']\n",
    "].drop_duplicates().set_index('StockCode').loc[rec_items]"
   ]
  }
 ],
 "metadata": {
  "kernelspec": {
   "display_name": "lecture",
   "language": "python",
   "name": "lecture"
  },
  "language_info": {
   "codemirror_mode": {
    "name": "ipython",
    "version": 3
   },
   "file_extension": ".py",
   "mimetype": "text/x-python",
   "name": "python",
   "nbconvert_exporter": "python",
   "pygments_lexer": "ipython3",
   "version": "3.11.7"
  }
 },
 "nbformat": 4,
 "nbformat_minor": 5
}
