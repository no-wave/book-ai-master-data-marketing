{
 "cells": [
  {
   "cell_type": "markdown",
   "metadata": {
    "tags": []
   },
   "source": [
    "# Collaborative Filtering Basic"
   ]
  },
  {
   "cell_type": "markdown",
   "metadata": {},
   "source": [
    "## 1. Item-based Collaborative Filtering"
   ]
  },
  {
   "cell_type": "code",
   "execution_count": 1,
   "metadata": {
    "tags": []
   },
   "outputs": [],
   "source": [
    "import numpy as np"
   ]
  },
  {
   "cell_type": "code",
   "execution_count": 2,
   "metadata": {
    "tags": []
   },
   "outputs": [],
   "source": [
    "# Input rating matrix\n",
    "# X stands for unknown ratings\n",
    "X = np.nan\n",
    "R = np.array([\n",
    "    [5, 4, X, 1, 2, 1], #  \n",
    "    [4, X, 3, 1, 1, 2], #\n",
    "    [X, 5, 5, X, 3, 3], # users\n",
    "    [2, X, 1, 4, 5, 4], # \n",
    "    [2, 2, 2, X, 4, X], #\n",
    "    [1, 2, 1, X, 5, 4]  #\n",
    "   #       items \n",
    "])"
   ]
  },
  {
   "cell_type": "code",
   "execution_count": 3,
   "metadata": {
    "tags": []
   },
   "outputs": [],
   "source": [
    "# Define common variables and helper functions\n",
    "n, m = R.shape\n",
    "\n",
    "def known(r):\n",
    "    return not np.isnan(r)\n",
    "\n",
    "def known_item_ratings(R, i):\n",
    "    return [r for r in R[:,i] if known(r)]\n",
    "\n",
    "def item_common_ratings(R, i, j):\n",
    "    return np.array(list(filter(\n",
    "        lambda r: all(known(val) for val in r), \n",
    "        np.column_stack((R[:,i], R[:,j]))\n",
    "    )))\n",
    "\n",
    "def mean_r(R, i):\n",
    "    return np.mean(known_item_ratings(R, i))"
   ]
  },
  {
   "cell_type": "code",
   "execution_count": 4,
   "metadata": {
    "tags": []
   },
   "outputs": [],
   "source": [
    "# Calculate the matrix of item similarities\n",
    "def similarity(R, i, j):\n",
    "    U_ij = item_common_ratings(R, i, j)\n",
    "    mu_i = mean_r(R, i)\n",
    "    mu_j = mean_r(R, j)\n",
    "    return sum([ \n",
    "          ((U_ij[u,0] - mu_i)*(U_ij[u,1] - mu_j)) / \n",
    "          (np.linalg.norm(U_ij[:,0] - mu_i) * np.linalg.norm(U_ij[:,1] - mu_j)) \n",
    "          for u in range(U_ij.shape[0])])\n",
    "\n",
    "item_similarity = np.array([[\n",
    "    similarity(R, i, j)\n",
    "    for i in range(m)] for j in range(m)])"
   ]
  },
  {
   "cell_type": "code",
   "execution_count": 5,
   "metadata": {
    "tags": []
   },
   "outputs": [
    {
     "name": "stdout",
     "output_type": "stream",
     "text": [
      "user 0, item 2 <- item neighbors [1, 0]\n",
      "user 1, item 1 <- item neighbors [2, 0]\n",
      "user 2, item 0 <- item neighbors [2, 1]\n",
      "user 2, item 3 <- item neighbors [4, 5]\n",
      "user 3, item 1 <- item neighbors [2, 0]\n",
      "user 4, item 3 <- item neighbors [4, 0]\n",
      "user 4, item 5 <- item neighbors [4, 1]\n",
      "user 5, item 3 <- item neighbors [4, 5]\n",
      "\n",
      "Complete rating matrix:\n",
      "[[5.   4.   4.5  1.   2.   1.  ]\n",
      " [4.   3.49 3.   1.   1.   2.  ]\n",
      " [5.   5.   5.   3.   3.   3.  ]\n",
      " [2.   1.49 1.   4.   5.   4.  ]\n",
      " [2.   2.   2.   1.23 4.   1.81]\n",
      " [1.   2.   1.   4.51 5.   4.  ]]\n"
     ]
    }
   ],
   "source": [
    "# Predict ratings based on the item similarities\n",
    "k = 2 # neighborhood size\n",
    "\n",
    "def predict_rating(R, u, i):\n",
    "    # neighbors sorted by similarity\n",
    "    all_neighbors = np.argsort(item_similarity[i])[::-1]\n",
    "    \n",
    "    # remove neighbors without ratings for u and select top k\n",
    "    neighbors = list(filter(lambda j: known(R[u,j]) and not i==j, all_neighbors))[:k] \n",
    "    score = 0 \n",
    "    norm = 0\n",
    "    print(\"user %s, item %s <- item neighbors %s\" % (u, i, neighbors))\n",
    "    for j in neighbors:\n",
    "        score = score + item_similarity[i,j]*R[u,j]\n",
    "        norm = norm + abs(item_similarity[i,j])\n",
    "    return score/norm\n",
    "\n",
    "ratings = np.array([[ R[u,i] if known(R[u,i]) else predict_rating(R, u, i)\n",
    "   for i in range(m)] for u in range(n)])\n",
    "\n",
    "print(\"\\nComplete rating matrix:\")\n",
    "np.set_printoptions(precision=2)\n",
    "print(ratings)"
   ]
  },
  {
   "cell_type": "markdown",
   "metadata": {},
   "source": [
    "## 2. Nearest Neighbor User-based Collaborative Filterin"
   ]
  },
  {
   "cell_type": "code",
   "execution_count": 6,
   "metadata": {
    "tags": []
   },
   "outputs": [],
   "source": [
    "# Input rating matrix\n",
    "# X stands for unknown ratings\n",
    "X = np.nan\n",
    "R = np.array([\n",
    "    [5, 4, X, 1, 2, 1], #  \n",
    "    [4, X, 3, 1, 1, 2], #\n",
    "    [X, 5, 5, X, 3, 3], # users\n",
    "    [2, X, 1, 4, 5, 4], # \n",
    "    [2, 2, 2, X, 4, X], #\n",
    "    [1, 2, 1, X, 5, 4]  #\n",
    "   #       items \n",
    "])"
   ]
  },
  {
   "cell_type": "code",
   "execution_count": 7,
   "metadata": {
    "tags": []
   },
   "outputs": [],
   "source": [
    "# Define common variables and helper functions\n",
    "n, m = R.shape\n",
    "\n",
    "def known(r):\n",
    "    return not np.isnan(r)\n",
    "\n",
    "def known_user_ratings(R, u):\n",
    "    return [r for r in R[u, :] if known(r)]\n",
    "\n",
    "def user_common_ratings(R, u, v):\n",
    "    return np.array(list(filter(\n",
    "        lambda r: all(known(val) for val in r), \n",
    "        np.column_stack((R[u, :], R[v, :]))\n",
    "    ))).T\n",
    "\n",
    "def mean_r(R, u):\n",
    "    return np.mean(known_user_ratings(R, u))"
   ]
  },
  {
   "cell_type": "code",
   "execution_count": 8,
   "metadata": {
    "tags": []
   },
   "outputs": [],
   "source": [
    "# Calculate the matrix of user similarities\n",
    "def similarity(R, u, v):\n",
    "    I_uv = user_common_ratings(R, u, v)\n",
    "    mu_u = mean_r(R, u)\n",
    "    mu_v = mean_r(R, v)\n",
    "    return sum([ \n",
    "          ((I_uv[0, i] - mu_u)*(I_uv[1, i] - mu_v)) / \n",
    "          (np.linalg.norm(I_uv[0, :] - mu_u) * np.linalg.norm(I_uv[1, :] - mu_v)) \n",
    "          for i in range(I_uv.shape[1])])\n",
    "\n",
    "user_similarity = np.array([[\n",
    "    similarity(R, u, v)\n",
    "    for u in range(n)] for v in range(n)])"
   ]
  },
  {
   "cell_type": "code",
   "execution_count": 9,
   "metadata": {
    "tags": []
   },
   "outputs": [
    {
     "data": {
      "text/plain": [
       "array([[ 1.  ,  0.87,  0.94, -0.8 , -0.59, -0.79],\n",
       "       [ 0.87,  1.  ,  0.87, -0.84, -0.81, -0.88],\n",
       "       [ 0.94,  0.87,  1.  , -0.94, -0.87, -0.92],\n",
       "       [-0.8 , -0.84, -0.94,  1.  ,  0.86,  0.95],\n",
       "       [-0.59, -0.81, -0.87,  0.86,  1.  ,  0.95],\n",
       "       [-0.79, -0.88, -0.92,  0.95,  0.95,  1.  ]])"
      ]
     },
     "execution_count": 9,
     "metadata": {},
     "output_type": "execute_result"
    }
   ],
   "source": [
    "user_similarity"
   ]
  },
  {
   "cell_type": "code",
   "execution_count": 10,
   "metadata": {
    "tags": []
   },
   "outputs": [
    {
     "name": "stdout",
     "output_type": "stream",
     "text": [
      "user 0, item 2 <- user neighbors [2, 1]\n",
      "user 1, item 1 <- user neighbors [0, 2]\n",
      "user 2, item 0 <- user neighbors [0, 1]\n",
      "user 2, item 3 <- user neighbors [0, 1]\n",
      "user 3, item 1 <- user neighbors [5, 4]\n",
      "user 4, item 3 <- user neighbors [3, 0]\n",
      "user 4, item 5 <- user neighbors [5, 3]\n",
      "user 5, item 3 <- user neighbors [3, 0]\n",
      "\n",
      "Complete rating matrix:\n",
      "[[5.   4.   3.5  1.   2.   1.  ]\n",
      " [4.   3.4  3.   1.   1.   2.  ]\n",
      " [6.11 5.   5.   2.59 3.   3.  ]\n",
      " [2.   2.65 1.   4.   5.   4.  ]\n",
      " [2.   2.   2.   3.63 4.   3.61]\n",
      " [1.   2.   1.   3.76 5.   4.  ]]\n"
     ]
    }
   ],
   "source": [
    "# Predict ratings based on the user similarities\n",
    "k = 2 # neighborhood size\n",
    "\n",
    "def predict_rating(R, u, i):\n",
    "    # neighbors sorted by similarity\n",
    "    all_neighbors = np.argsort(user_similarity[u])[::-1]\n",
    "    \n",
    "    # remove neighbors without ratings for i and select top k\n",
    "    neighbors = list(filter(lambda v: known(R[v,i]) and not v==u, all_neighbors))[:k] \n",
    "    mu_u = mean_r(R, u)\n",
    "    score = 0 \n",
    "    norm = 0\n",
    "    print(\"user %s, item %s <- user neighbors %s\" % (u, i, neighbors))\n",
    "    for v in neighbors:\n",
    "        mu_v = mean_r(R, v)\n",
    "        score = score + user_similarity[u,v]*(R[v,i] - mu_v)\n",
    "        norm = norm + abs(user_similarity[u,v])\n",
    "    return mu_u + score/norm\n",
    "\n",
    "ratings = np.array([[ R[u,i] if known(R[u,i]) else predict_rating(R, u, i)\n",
    "   for i in range(m)] for u in range(n)])\n",
    "\n",
    "print(\"\\nComplete rating matrix:\")\n",
    "np.set_printoptions(precision=2)\n",
    "print(ratings)"
   ]
  }
 ],
 "metadata": {
  "kernelspec": {
   "display_name": "lecture",
   "language": "python",
   "name": "lecture"
  },
  "language_info": {
   "codemirror_mode": {
    "name": "ipython",
    "version": 3
   },
   "file_extension": ".py",
   "mimetype": "text/x-python",
   "name": "python",
   "nbconvert_exporter": "python",
   "pygments_lexer": "ipython3",
   "version": "3.11.7"
  }
 },
 "nbformat": 4,
 "nbformat_minor": 4
}
